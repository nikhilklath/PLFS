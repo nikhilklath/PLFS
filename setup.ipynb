{
 "cells": [
  {
   "cell_type": "markdown",
   "metadata": {},
   "source": [
    "Used advice from https://medium.com/@yadaviitb2018/working-with-periodic-labour-force-survey-plfs-data-in-python-79f8eba134ae"
   ]
  },
  {
   "cell_type": "code",
   "execution_count": 1,
   "metadata": {},
   "outputs": [],
   "source": [
    "import numpy as np\n",
    "import pandas as pd"
   ]
  },
  {
   "cell_type": "code",
   "execution_count": 20,
   "metadata": {},
   "outputs": [],
   "source": [
    "root = r\"F:\\00 microdata-gov-in\\PLFS\""
   ]
  },
  {
   "cell_type": "markdown",
   "metadata": {},
   "source": [
    "PLFS 2022-23"
   ]
  },
  {
   "cell_type": "code",
   "execution_count": 2,
   "metadata": {},
   "outputs": [
    {
     "name": "stderr",
     "output_type": "stream",
     "text": [
      "C:\\Users\\accounttest\\AppData\\Local\\Temp\\ipykernel_34252\\642644613.py:4: SettingWithCopyWarning: \n",
      "A value is trying to be set on a copy of a slice from a DataFrame.\n",
      "Try using .loc[row_indexer,col_indexer] = value instead\n",
      "\n",
      "See the caveats in the documentation: https://pandas.pydata.org/pandas-docs/stable/user_guide/indexing.html#returning-a-view-versus-a-copy\n",
      "  layout_hhv1[[\"Byte Position\", \"Unnamed: 6\"]] = layout_hhv1[[\"Byte Position\", \"Unnamed: 6\"]].apply(pd.to_numeric, errors='coerce', axis=1)\n",
      "C:\\Users\\accounttest\\AppData\\Local\\Temp\\ipykernel_34252\\642644613.py:5: SettingWithCopyWarning: \n",
      "A value is trying to be set on a copy of a slice from a DataFrame.\n",
      "Try using .loc[row_indexer,col_indexer] = value instead\n",
      "\n",
      "See the caveats in the documentation: https://pandas.pydata.org/pandas-docs/stable/user_guide/indexing.html#returning-a-view-versus-a-copy\n",
      "  layout_hhv1[\"Byte Position\"]-=1\n",
      "C:\\Users\\accounttest\\AppData\\Local\\Temp\\ipykernel_34252\\642644613.py:8: SettingWithCopyWarning: \n",
      "A value is trying to be set on a copy of a slice from a DataFrame.\n",
      "Try using .loc[row_indexer,col_indexer] = value instead\n",
      "\n",
      "See the caveats in the documentation: https://pandas.pydata.org/pandas-docs/stable/user_guide/indexing.html#returning-a-view-versus-a-copy\n",
      "  layout_hhrv[[\"Byte Position\", \"Unnamed: 6\"]] = layout_hhrv[[\"Byte Position\", \"Unnamed: 6\"]].apply(pd.to_numeric, errors='coerce', axis=1)\n",
      "C:\\Users\\accounttest\\AppData\\Local\\Temp\\ipykernel_34252\\642644613.py:9: SettingWithCopyWarning: \n",
      "A value is trying to be set on a copy of a slice from a DataFrame.\n",
      "Try using .loc[row_indexer,col_indexer] = value instead\n",
      "\n",
      "See the caveats in the documentation: https://pandas.pydata.org/pandas-docs/stable/user_guide/indexing.html#returning-a-view-versus-a-copy\n",
      "  layout_hhrv[\"Byte Position\"]-=1\n",
      "C:\\Users\\accounttest\\AppData\\Local\\Temp\\ipykernel_34252\\642644613.py:12: SettingWithCopyWarning: \n",
      "A value is trying to be set on a copy of a slice from a DataFrame.\n",
      "Try using .loc[row_indexer,col_indexer] = value instead\n",
      "\n",
      "See the caveats in the documentation: https://pandas.pydata.org/pandas-docs/stable/user_guide/indexing.html#returning-a-view-versus-a-copy\n",
      "  layout_perv1[[\"Byte Position\", \"Unnamed: 6\"]] = layout_perv1[[\"Byte Position\", \"Unnamed: 6\"]].apply(pd.to_numeric, errors='coerce', axis=1)\n",
      "C:\\Users\\accounttest\\AppData\\Local\\Temp\\ipykernel_34252\\642644613.py:13: SettingWithCopyWarning: \n",
      "A value is trying to be set on a copy of a slice from a DataFrame.\n",
      "Try using .loc[row_indexer,col_indexer] = value instead\n",
      "\n",
      "See the caveats in the documentation: https://pandas.pydata.org/pandas-docs/stable/user_guide/indexing.html#returning-a-view-versus-a-copy\n",
      "  layout_perv1[\"Byte Position\"]-=1\n",
      "C:\\Users\\accounttest\\AppData\\Local\\Temp\\ipykernel_34252\\642644613.py:14: SettingWithCopyWarning: \n",
      "A value is trying to be set on a copy of a slice from a DataFrame.\n",
      "Try using .loc[row_indexer,col_indexer] = value instead\n",
      "\n",
      "See the caveats in the documentation: https://pandas.pydata.org/pandas-docs/stable/user_guide/indexing.html#returning-a-view-versus-a-copy\n",
      "  layout_perv1[\"Full Name\"] = layout_perv1[[\"Srl\", \"Full Name\"]].apply(lambda row: '_'.join(row.values.astype(str)), axis=1)\n",
      "C:\\Users\\accounttest\\AppData\\Local\\Temp\\ipykernel_34252\\642644613.py:17: SettingWithCopyWarning: \n",
      "A value is trying to be set on a copy of a slice from a DataFrame.\n",
      "Try using .loc[row_indexer,col_indexer] = value instead\n",
      "\n",
      "See the caveats in the documentation: https://pandas.pydata.org/pandas-docs/stable/user_guide/indexing.html#returning-a-view-versus-a-copy\n",
      "  layout_perrv[[\"Byte Position\", \"Unnamed: 6\"]] = layout_perrv[[\"Byte Position\", \"Unnamed: 6\"]].apply(pd.to_numeric, errors='coerce', axis=1)\n",
      "C:\\Users\\accounttest\\AppData\\Local\\Temp\\ipykernel_34252\\642644613.py:18: SettingWithCopyWarning: \n",
      "A value is trying to be set on a copy of a slice from a DataFrame.\n",
      "Try using .loc[row_indexer,col_indexer] = value instead\n",
      "\n",
      "See the caveats in the documentation: https://pandas.pydata.org/pandas-docs/stable/user_guide/indexing.html#returning-a-view-versus-a-copy\n",
      "  layout_perrv[\"Byte Position\"]-=1\n",
      "C:\\Users\\accounttest\\AppData\\Local\\Temp\\ipykernel_34252\\642644613.py:19: SettingWithCopyWarning: \n",
      "A value is trying to be set on a copy of a slice from a DataFrame.\n",
      "Try using .loc[row_indexer,col_indexer] = value instead\n",
      "\n",
      "See the caveats in the documentation: https://pandas.pydata.org/pandas-docs/stable/user_guide/indexing.html#returning-a-view-versus-a-copy\n",
      "  layout_perrv[\"Full Name\"] = layout_perrv[[\"Srl\", \"Full Name\"]].apply(lambda row: '_'.join(row.values.astype(str)), axis=1)\n"
     ]
    }
   ],
   "source": [
    "layout = pd.read_excel(root+ r\"\\Data_LayoutPLFS_2022-23.xlsx\", header=2)\n",
    "\n",
    "layout_hhv1 = layout[0:37]\n",
    "layout_hhv1[[\"Byte Position\", \"Unnamed: 6\"]] = layout_hhv1[[\"Byte Position\", \"Unnamed: 6\"]].apply(pd.to_numeric, errors='coerce', axis=1)\n",
    "layout_hhv1[\"Byte Position\"]-=1\n",
    "\n",
    "layout_hhrv = layout[42:74]\n",
    "layout_hhrv[[\"Byte Position\", \"Unnamed: 6\"]] = layout_hhrv[[\"Byte Position\", \"Unnamed: 6\"]].apply(pd.to_numeric, errors='coerce', axis=1)\n",
    "layout_hhrv[\"Byte Position\"]-=1\n",
    "\n",
    "layout_perv1 = layout[79:218]\n",
    "layout_perv1[[\"Byte Position\", \"Unnamed: 6\"]] = layout_perv1[[\"Byte Position\", \"Unnamed: 6\"]].apply(pd.to_numeric, errors='coerce', axis=1)\n",
    "layout_perv1[\"Byte Position\"]-=1\n",
    "layout_perv1[\"Full Name\"] = layout_perv1[[\"Srl\", \"Full Name\"]].apply(lambda row: '_'.join(row.values.astype(str)), axis=1)\n",
    "\n",
    "layout_perrv = layout[223:338]\n",
    "layout_perrv[[\"Byte Position\", \"Unnamed: 6\"]] = layout_perrv[[\"Byte Position\", \"Unnamed: 6\"]].apply(pd.to_numeric, errors='coerce', axis=1)\n",
    "layout_perrv[\"Byte Position\"]-=1\n",
    "layout_perrv[\"Full Name\"] = layout_perrv[[\"Srl\", \"Full Name\"]].apply(lambda row: '_'.join(row.values.astype(str)), axis=1)"
   ]
  },
  {
   "cell_type": "code",
   "execution_count": 3,
   "metadata": {},
   "outputs": [],
   "source": [
    "column_specs = list(zip(layout_hhv1[\"Byte Position\"], layout_hhv1[\"Unnamed: 6\"]))\n",
    "column_names = list(layout_hhv1[\"Full Name\"])\n",
    "df_hhv1 = pd.read_fwf(root+ r\"\\PLFS_Data_22-23\\HHV1.TXT\", header=None, colspecs=column_specs, names=column_names)\n",
    "df_hhv1.to_csv(root+ r\"\\PLFS_Data_22-23\\HHV1.csv\")"
   ]
  },
  {
   "cell_type": "code",
   "execution_count": 4,
   "metadata": {},
   "outputs": [],
   "source": [
    "column_specs = list(zip(layout_hhrv[\"Byte Position\"], layout_hhrv[\"Unnamed: 6\"]))\n",
    "column_names = list(layout_hhrv[\"Full Name\"])\n",
    "df_hhrv = pd.read_fwf(root+ r\"\\PLFS_Data_22-23\\HHRV.TXT\", header=None, colspecs=column_specs, names=column_names)\n",
    "df_hhrv.to_csv(root+ r\"\\PLFS_Data_22-23\\HHRV.csv\")"
   ]
  },
  {
   "cell_type": "code",
   "execution_count": 5,
   "metadata": {},
   "outputs": [],
   "source": [
    "column_specs = list(zip(layout_perv1[\"Byte Position\"], layout_perv1[\"Unnamed: 6\"]))\n",
    "column_names = list(layout_perv1[\"Full Name\"])\n",
    "df_perv1 = pd.read_fwf(root+ r\"\\PLFS_Data_22-23\\PERV1.TXT\", header=None, colspecs=column_specs, names=column_names)\n",
    "df_perv1.to_csv(root+ r\"\\PLFS_Data_22-23\\PERV1.csv\")"
   ]
  },
  {
   "cell_type": "code",
   "execution_count": 6,
   "metadata": {},
   "outputs": [],
   "source": [
    "column_specs = list(zip(layout_perrv[\"Byte Position\"], layout_perrv[\"Unnamed: 6\"]))\n",
    "column_names = list(layout_perrv[\"Full Name\"])\n",
    "df_perrv = pd.read_fwf(root+ r\"\\PLFS_Data_22-23\\PERRV.TXT\", header=None, colspecs=column_specs, names=column_names)\n",
    "df_perrv.to_csv(root+ r\"\\PLFS_Data_22-23\\PERRV.csv\")"
   ]
  },
  {
   "cell_type": "markdown",
   "metadata": {},
   "source": [
    "PLFS 2021-22"
   ]
  },
  {
   "cell_type": "code",
   "execution_count": 11,
   "metadata": {},
   "outputs": [
    {
     "name": "stderr",
     "output_type": "stream",
     "text": [
      "C:\\Users\\accounttest\\AppData\\Local\\Temp\\ipykernel_34252\\3213809888.py:4: SettingWithCopyWarning: \n",
      "A value is trying to be set on a copy of a slice from a DataFrame.\n",
      "Try using .loc[row_indexer,col_indexer] = value instead\n",
      "\n",
      "See the caveats in the documentation: https://pandas.pydata.org/pandas-docs/stable/user_guide/indexing.html#returning-a-view-versus-a-copy\n",
      "  layout_hhv1[[\"Byte Position\", \"Unnamed: 6\"]] = layout_hhv1[[\"Byte Position\", \"Unnamed: 6\"]].apply(pd.to_numeric, errors='coerce', axis=1)\n",
      "C:\\Users\\accounttest\\AppData\\Local\\Temp\\ipykernel_34252\\3213809888.py:5: SettingWithCopyWarning: \n",
      "A value is trying to be set on a copy of a slice from a DataFrame.\n",
      "Try using .loc[row_indexer,col_indexer] = value instead\n",
      "\n",
      "See the caveats in the documentation: https://pandas.pydata.org/pandas-docs/stable/user_guide/indexing.html#returning-a-view-versus-a-copy\n",
      "  layout_hhv1[\"Byte Position\"]-=1\n",
      "C:\\Users\\accounttest\\AppData\\Local\\Temp\\ipykernel_34252\\3213809888.py:8: SettingWithCopyWarning: \n",
      "A value is trying to be set on a copy of a slice from a DataFrame.\n",
      "Try using .loc[row_indexer,col_indexer] = value instead\n",
      "\n",
      "See the caveats in the documentation: https://pandas.pydata.org/pandas-docs/stable/user_guide/indexing.html#returning-a-view-versus-a-copy\n",
      "  layout_hhrv[[\"Byte Position\", \"Unnamed: 6\"]] = layout_hhrv[[\"Byte Position\", \"Unnamed: 6\"]].apply(pd.to_numeric, errors='coerce', axis=1)\n",
      "C:\\Users\\accounttest\\AppData\\Local\\Temp\\ipykernel_34252\\3213809888.py:9: SettingWithCopyWarning: \n",
      "A value is trying to be set on a copy of a slice from a DataFrame.\n",
      "Try using .loc[row_indexer,col_indexer] = value instead\n",
      "\n",
      "See the caveats in the documentation: https://pandas.pydata.org/pandas-docs/stable/user_guide/indexing.html#returning-a-view-versus-a-copy\n",
      "  layout_hhrv[\"Byte Position\"]-=1\n",
      "C:\\Users\\accounttest\\AppData\\Local\\Temp\\ipykernel_34252\\3213809888.py:12: SettingWithCopyWarning: \n",
      "A value is trying to be set on a copy of a slice from a DataFrame.\n",
      "Try using .loc[row_indexer,col_indexer] = value instead\n",
      "\n",
      "See the caveats in the documentation: https://pandas.pydata.org/pandas-docs/stable/user_guide/indexing.html#returning-a-view-versus-a-copy\n",
      "  layout_perv1[[\"Byte Position\", \"Unnamed: 6\"]] = layout_perv1[[\"Byte Position\", \"Unnamed: 6\"]].apply(pd.to_numeric, errors='coerce', axis=1)\n",
      "C:\\Users\\accounttest\\AppData\\Local\\Temp\\ipykernel_34252\\3213809888.py:13: SettingWithCopyWarning: \n",
      "A value is trying to be set on a copy of a slice from a DataFrame.\n",
      "Try using .loc[row_indexer,col_indexer] = value instead\n",
      "\n",
      "See the caveats in the documentation: https://pandas.pydata.org/pandas-docs/stable/user_guide/indexing.html#returning-a-view-versus-a-copy\n",
      "  layout_perv1[\"Byte Position\"]-=1\n",
      "C:\\Users\\accounttest\\AppData\\Local\\Temp\\ipykernel_34252\\3213809888.py:14: SettingWithCopyWarning: \n",
      "A value is trying to be set on a copy of a slice from a DataFrame.\n",
      "Try using .loc[row_indexer,col_indexer] = value instead\n",
      "\n",
      "See the caveats in the documentation: https://pandas.pydata.org/pandas-docs/stable/user_guide/indexing.html#returning-a-view-versus-a-copy\n",
      "  layout_perv1[\"Full Name\"] = layout_perv1[[\"Srl\", \"Full Name\"]].apply(lambda row: '_'.join(row.values.astype(str)), axis=1)\n",
      "C:\\Users\\accounttest\\AppData\\Local\\Temp\\ipykernel_34252\\3213809888.py:17: SettingWithCopyWarning: \n",
      "A value is trying to be set on a copy of a slice from a DataFrame.\n",
      "Try using .loc[row_indexer,col_indexer] = value instead\n",
      "\n",
      "See the caveats in the documentation: https://pandas.pydata.org/pandas-docs/stable/user_guide/indexing.html#returning-a-view-versus-a-copy\n",
      "  layout_perrv[[\"Byte Position\", \"Unnamed: 6\"]] = layout_perrv[[\"Byte Position\", \"Unnamed: 6\"]].apply(pd.to_numeric, errors='coerce', axis=1)\n",
      "C:\\Users\\accounttest\\AppData\\Local\\Temp\\ipykernel_34252\\3213809888.py:18: SettingWithCopyWarning: \n",
      "A value is trying to be set on a copy of a slice from a DataFrame.\n",
      "Try using .loc[row_indexer,col_indexer] = value instead\n",
      "\n",
      "See the caveats in the documentation: https://pandas.pydata.org/pandas-docs/stable/user_guide/indexing.html#returning-a-view-versus-a-copy\n",
      "  layout_perrv[\"Byte Position\"]-=1\n",
      "C:\\Users\\accounttest\\AppData\\Local\\Temp\\ipykernel_34252\\3213809888.py:19: SettingWithCopyWarning: \n",
      "A value is trying to be set on a copy of a slice from a DataFrame.\n",
      "Try using .loc[row_indexer,col_indexer] = value instead\n",
      "\n",
      "See the caveats in the documentation: https://pandas.pydata.org/pandas-docs/stable/user_guide/indexing.html#returning-a-view-versus-a-copy\n",
      "  layout_perrv[\"Full Name\"] = layout_perrv[[\"Srl\", \"Full Name\"]].apply(lambda row: '_'.join(row.values.astype(str)), axis=1)\n"
     ]
    }
   ],
   "source": [
    "layout = pd.read_excel(root+ r\"\\PLFS_Data_21-22\\4Data_LayoutPLFS_2021-22.xlsx\", header=2)\n",
    "\n",
    "layout_hhv1 = layout[0:37]\n",
    "layout_hhv1[[\"Byte Position\", \"Unnamed: 6\"]] = layout_hhv1[[\"Byte Position\", \"Unnamed: 6\"]].apply(pd.to_numeric, errors='coerce', axis=1)\n",
    "layout_hhv1[\"Byte Position\"]-=1\n",
    "\n",
    "layout_hhrv = layout[42:74]\n",
    "layout_hhrv[[\"Byte Position\", \"Unnamed: 6\"]] = layout_hhrv[[\"Byte Position\", \"Unnamed: 6\"]].apply(pd.to_numeric, errors='coerce', axis=1)\n",
    "layout_hhrv[\"Byte Position\"]-=1\n",
    "\n",
    "layout_perv1 = layout[79:222]\n",
    "layout_perv1[[\"Byte Position\", \"Unnamed: 6\"]] = layout_perv1[[\"Byte Position\", \"Unnamed: 6\"]].apply(pd.to_numeric, errors='coerce', axis=1)\n",
    "layout_perv1[\"Byte Position\"]-=1\n",
    "layout_perv1[\"Full Name\"] = layout_perv1[[\"Srl\", \"Full Name\"]].apply(lambda row: '_'.join(row.values.astype(str)), axis=1)\n",
    "\n",
    "layout_perrv = layout[227:342]\n",
    "layout_perrv[[\"Byte Position\", \"Unnamed: 6\"]] = layout_perrv[[\"Byte Position\", \"Unnamed: 6\"]].apply(pd.to_numeric, errors='coerce', axis=1)\n",
    "layout_perrv[\"Byte Position\"]-=1\n",
    "layout_perrv[\"Full Name\"] = layout_perrv[[\"Srl\", \"Full Name\"]].apply(lambda row: '_'.join(row.values.astype(str)), axis=1)"
   ]
  },
  {
   "cell_type": "code",
   "execution_count": 14,
   "metadata": {},
   "outputs": [],
   "source": [
    "column_specs = list(zip(layout_hhv1[\"Byte Position\"], layout_hhv1[\"Unnamed: 6\"]))\n",
    "column_names = list(layout_hhv1[\"Full Name\"])\n",
    "df_hhv1 = pd.read_fwf(root+ r\"\\PLFS_Data_21-22\\HHV1.TXT\", header=None, colspecs=column_specs, names=column_names)\n",
    "df_hhv1.to_csv(root+ r\"\\PLFS_Data_21-22\\HHV1.csv\")"
   ]
  },
  {
   "cell_type": "code",
   "execution_count": 15,
   "metadata": {},
   "outputs": [],
   "source": [
    "column_specs = list(zip(layout_hhrv[\"Byte Position\"], layout_hhrv[\"Unnamed: 6\"]))\n",
    "column_names = list(layout_hhrv[\"Full Name\"])\n",
    "df_hhrv = pd.read_fwf(root+ r\"\\PLFS_Data_21-22\\HHRV.TXT\", header=None, colspecs=column_specs, names=column_names)\n",
    "df_hhrv.to_csv(root+ r\"\\PLFS_Data_21-22\\HHRV.csv\")"
   ]
  },
  {
   "cell_type": "code",
   "execution_count": 16,
   "metadata": {},
   "outputs": [],
   "source": [
    "column_specs = list(zip(layout_perv1[\"Byte Position\"], layout_perv1[\"Unnamed: 6\"]))\n",
    "column_names = list(layout_perv1[\"Full Name\"])\n",
    "df_perv1 = pd.read_fwf(root+ r\"\\PLFS_Data_21-22\\PERV1.TXT\", header=None, colspecs=column_specs, names=column_names)\n",
    "df_perv1.to_csv(root+ r\"\\PLFS_Data_21-22\\PERV1.csv\")"
   ]
  },
  {
   "cell_type": "code",
   "execution_count": 17,
   "metadata": {},
   "outputs": [],
   "source": [
    "column_specs = list(zip(layout_perrv[\"Byte Position\"], layout_perrv[\"Unnamed: 6\"]))\n",
    "column_names = list(layout_perrv[\"Full Name\"])\n",
    "df_perrv = pd.read_fwf(root+ r\"\\PLFS_Data_21-22\\PERRV.TXT\", header=None, colspecs=column_specs, names=column_names)\n",
    "df_perrv.to_csv(root+ r\"\\PLFS_Data_21-22\\PERRV.csv\")"
   ]
  },
  {
   "cell_type": "markdown",
   "metadata": {},
   "source": [
    "PLFS 2020-21"
   ]
  },
  {
   "cell_type": "code",
   "execution_count": 25,
   "metadata": {},
   "outputs": [
    {
     "name": "stderr",
     "output_type": "stream",
     "text": [
      "C:\\Users\\accounttest\\AppData\\Local\\Temp\\ipykernel_34252\\3373329853.py:4: SettingWithCopyWarning: \n",
      "A value is trying to be set on a copy of a slice from a DataFrame.\n",
      "Try using .loc[row_indexer,col_indexer] = value instead\n",
      "\n",
      "See the caveats in the documentation: https://pandas.pydata.org/pandas-docs/stable/user_guide/indexing.html#returning-a-view-versus-a-copy\n",
      "  layout_hhv1[[\"Byte Position\", \"Unnamed: 6\"]] = layout_hhv1[[\"Byte Position\", \"Unnamed: 6\"]].apply(pd.to_numeric, errors='coerce', axis=1)\n",
      "C:\\Users\\accounttest\\AppData\\Local\\Temp\\ipykernel_34252\\3373329853.py:5: SettingWithCopyWarning: \n",
      "A value is trying to be set on a copy of a slice from a DataFrame.\n",
      "Try using .loc[row_indexer,col_indexer] = value instead\n",
      "\n",
      "See the caveats in the documentation: https://pandas.pydata.org/pandas-docs/stable/user_guide/indexing.html#returning-a-view-versus-a-copy\n",
      "  layout_hhv1[\"Byte Position\"]-=1\n",
      "C:\\Users\\accounttest\\AppData\\Local\\Temp\\ipykernel_34252\\3373329853.py:8: SettingWithCopyWarning: \n",
      "A value is trying to be set on a copy of a slice from a DataFrame.\n",
      "Try using .loc[row_indexer,col_indexer] = value instead\n",
      "\n",
      "See the caveats in the documentation: https://pandas.pydata.org/pandas-docs/stable/user_guide/indexing.html#returning-a-view-versus-a-copy\n",
      "  layout_hhrv[[\"Byte Position\", \"Unnamed: 6\"]] = layout_hhrv[[\"Byte Position\", \"Unnamed: 6\"]].apply(pd.to_numeric, errors='coerce', axis=1)\n",
      "C:\\Users\\accounttest\\AppData\\Local\\Temp\\ipykernel_34252\\3373329853.py:9: SettingWithCopyWarning: \n",
      "A value is trying to be set on a copy of a slice from a DataFrame.\n",
      "Try using .loc[row_indexer,col_indexer] = value instead\n",
      "\n",
      "See the caveats in the documentation: https://pandas.pydata.org/pandas-docs/stable/user_guide/indexing.html#returning-a-view-versus-a-copy\n",
      "  layout_hhrv[\"Byte Position\"]-=1\n",
      "C:\\Users\\accounttest\\AppData\\Local\\Temp\\ipykernel_34252\\3373329853.py:12: SettingWithCopyWarning: \n",
      "A value is trying to be set on a copy of a slice from a DataFrame.\n",
      "Try using .loc[row_indexer,col_indexer] = value instead\n",
      "\n",
      "See the caveats in the documentation: https://pandas.pydata.org/pandas-docs/stable/user_guide/indexing.html#returning-a-view-versus-a-copy\n",
      "  layout_perv1[[\"Byte Position\", \"Unnamed: 6\"]] = layout_perv1[[\"Byte Position\", \"Unnamed: 6\"]].apply(pd.to_numeric, errors='coerce', axis=1)\n",
      "C:\\Users\\accounttest\\AppData\\Local\\Temp\\ipykernel_34252\\3373329853.py:13: SettingWithCopyWarning: \n",
      "A value is trying to be set on a copy of a slice from a DataFrame.\n",
      "Try using .loc[row_indexer,col_indexer] = value instead\n",
      "\n",
      "See the caveats in the documentation: https://pandas.pydata.org/pandas-docs/stable/user_guide/indexing.html#returning-a-view-versus-a-copy\n",
      "  layout_perv1[\"Byte Position\"]-=1\n",
      "C:\\Users\\accounttest\\AppData\\Local\\Temp\\ipykernel_34252\\3373329853.py:14: SettingWithCopyWarning: \n",
      "A value is trying to be set on a copy of a slice from a DataFrame.\n",
      "Try using .loc[row_indexer,col_indexer] = value instead\n",
      "\n",
      "See the caveats in the documentation: https://pandas.pydata.org/pandas-docs/stable/user_guide/indexing.html#returning-a-view-versus-a-copy\n",
      "  layout_perv1[\"Full Name\"] = layout_perv1[[\"Srl\", \"Full Name\"]].apply(lambda row: '_'.join(row.values.astype(str)), axis=1)\n",
      "C:\\Users\\accounttest\\AppData\\Local\\Temp\\ipykernel_34252\\3373329853.py:17: SettingWithCopyWarning: \n",
      "A value is trying to be set on a copy of a slice from a DataFrame.\n",
      "Try using .loc[row_indexer,col_indexer] = value instead\n",
      "\n",
      "See the caveats in the documentation: https://pandas.pydata.org/pandas-docs/stable/user_guide/indexing.html#returning-a-view-versus-a-copy\n",
      "  layout_perrv[[\"Byte Position\", \"Unnamed: 6\"]] = layout_perrv[[\"Byte Position\", \"Unnamed: 6\"]].apply(pd.to_numeric, errors='coerce', axis=1)\n",
      "C:\\Users\\accounttest\\AppData\\Local\\Temp\\ipykernel_34252\\3373329853.py:18: SettingWithCopyWarning: \n",
      "A value is trying to be set on a copy of a slice from a DataFrame.\n",
      "Try using .loc[row_indexer,col_indexer] = value instead\n",
      "\n",
      "See the caveats in the documentation: https://pandas.pydata.org/pandas-docs/stable/user_guide/indexing.html#returning-a-view-versus-a-copy\n",
      "  layout_perrv[\"Byte Position\"]-=1\n",
      "C:\\Users\\accounttest\\AppData\\Local\\Temp\\ipykernel_34252\\3373329853.py:19: SettingWithCopyWarning: \n",
      "A value is trying to be set on a copy of a slice from a DataFrame.\n",
      "Try using .loc[row_indexer,col_indexer] = value instead\n",
      "\n",
      "See the caveats in the documentation: https://pandas.pydata.org/pandas-docs/stable/user_guide/indexing.html#returning-a-view-versus-a-copy\n",
      "  layout_perrv[\"Full Name\"] = layout_perrv[[\"Srl\", \"Full Name\"]].apply(lambda row: '_'.join(row.values.astype(str)), axis=1)\n"
     ]
    }
   ],
   "source": [
    "layout = pd.read_excel(root+ r\"\\PLFS_Data_20-21\\Data_LayoutPLFS_2020-21.xlsx\", header=2)\n",
    "\n",
    "layout_hhv1 = layout[0:37]\n",
    "layout_hhv1[[\"Byte Position\", \"Unnamed: 6\"]] = layout_hhv1[[\"Byte Position\", \"Unnamed: 6\"]].apply(pd.to_numeric, errors='coerce', axis=1)\n",
    "layout_hhv1[\"Byte Position\"]-=1\n",
    "\n",
    "layout_hhrv = layout[42:74]\n",
    "layout_hhrv[[\"Byte Position\", \"Unnamed: 6\"]] = layout_hhrv[[\"Byte Position\", \"Unnamed: 6\"]].apply(pd.to_numeric, errors='coerce', axis=1)\n",
    "layout_hhrv[\"Byte Position\"]-=1\n",
    "\n",
    "layout_perv1 = layout[79:238]\n",
    "layout_perv1[[\"Byte Position\", \"Unnamed: 6\"]] = layout_perv1[[\"Byte Position\", \"Unnamed: 6\"]].apply(pd.to_numeric, errors='coerce', axis=1)\n",
    "layout_perv1[\"Byte Position\"]-=1\n",
    "layout_perv1[\"Full Name\"] = layout_perv1[[\"Srl\", \"Full Name\"]].apply(lambda row: '_'.join(row.values.astype(str)), axis=1)\n",
    "\n",
    "layout_perrv = layout[243:358]\n",
    "layout_perrv[[\"Byte Position\", \"Unnamed: 6\"]] = layout_perrv[[\"Byte Position\", \"Unnamed: 6\"]].apply(pd.to_numeric, errors='coerce', axis=1)\n",
    "layout_perrv[\"Byte Position\"]-=1\n",
    "layout_perrv[\"Full Name\"] = layout_perrv[[\"Srl\", \"Full Name\"]].apply(lambda row: '_'.join(row.values.astype(str)), axis=1)"
   ]
  },
  {
   "cell_type": "code",
   "execution_count": 28,
   "metadata": {},
   "outputs": [],
   "source": [
    "column_specs = list(zip(layout_hhv1[\"Byte Position\"], layout_hhv1[\"Unnamed: 6\"]))\n",
    "column_names = list(layout_hhv1[\"Full Name\"])\n",
    "df_hhv1 = pd.read_fwf(root+ r\"\\PLFS_Data_20-21\\HHV1.TXT\", header=None, colspecs=column_specs, names=column_names)\n",
    "df_hhv1.to_csv(root+ r\"\\PLFS_Data_20-21\\HHV1.csv\")"
   ]
  },
  {
   "cell_type": "code",
   "execution_count": 29,
   "metadata": {},
   "outputs": [],
   "source": [
    "column_specs = list(zip(layout_hhrv[\"Byte Position\"], layout_hhrv[\"Unnamed: 6\"]))\n",
    "column_names = list(layout_hhrv[\"Full Name\"])\n",
    "df_hhrv = pd.read_fwf(root+ r\"\\PLFS_Data_20-21\\HHRV.TXT\", header=None, colspecs=column_specs, names=column_names)\n",
    "df_hhrv.to_csv(root+ r\"\\PLFS_Data_20-21\\HHRV.csv\")"
   ]
  },
  {
   "cell_type": "code",
   "execution_count": 30,
   "metadata": {},
   "outputs": [],
   "source": [
    "column_specs = list(zip(layout_perv1[\"Byte Position\"], layout_perv1[\"Unnamed: 6\"]))\n",
    "column_names = list(layout_perv1[\"Full Name\"])\n",
    "df_perv1 = pd.read_fwf(root+ r\"\\PLFS_Data_20-21\\PERV1.TXT\", header=None, colspecs=column_specs, names=column_names)\n",
    "df_perv1.to_csv(root+ r\"\\PLFS_Data_20-21\\PERV1.csv\")"
   ]
  },
  {
   "cell_type": "code",
   "execution_count": 31,
   "metadata": {},
   "outputs": [],
   "source": [
    "column_specs = list(zip(layout_perrv[\"Byte Position\"], layout_perrv[\"Unnamed: 6\"]))\n",
    "column_names = list(layout_perrv[\"Full Name\"])\n",
    "df_perrv = pd.read_fwf(root+ r\"\\PLFS_Data_20-21\\PERRV.TXT\", header=None, colspecs=column_specs, names=column_names)\n",
    "df_perrv.to_csv(root+ r\"\\PLFS_Data_20-21\\PERRV.csv\")"
   ]
  },
  {
   "cell_type": "markdown",
   "metadata": {},
   "source": [
    "PLFS 2019-20"
   ]
  },
  {
   "cell_type": "code",
   "execution_count": 41,
   "metadata": {},
   "outputs": [
    {
     "name": "stderr",
     "output_type": "stream",
     "text": [
      "C:\\Users\\accounttest\\AppData\\Local\\Temp\\ipykernel_34252\\913697355.py:4: SettingWithCopyWarning: \n",
      "A value is trying to be set on a copy of a slice from a DataFrame.\n",
      "Try using .loc[row_indexer,col_indexer] = value instead\n",
      "\n",
      "See the caveats in the documentation: https://pandas.pydata.org/pandas-docs/stable/user_guide/indexing.html#returning-a-view-versus-a-copy\n",
      "  layout_hhv1[[\"Byte Position\", \"Unnamed: 6\"]] = layout_hhv1[[\"Byte Position\", \"Unnamed: 6\"]].apply(pd.to_numeric, errors='coerce', axis=1)\n",
      "C:\\Users\\accounttest\\AppData\\Local\\Temp\\ipykernel_34252\\913697355.py:5: SettingWithCopyWarning: \n",
      "A value is trying to be set on a copy of a slice from a DataFrame.\n",
      "Try using .loc[row_indexer,col_indexer] = value instead\n",
      "\n",
      "See the caveats in the documentation: https://pandas.pydata.org/pandas-docs/stable/user_guide/indexing.html#returning-a-view-versus-a-copy\n",
      "  layout_hhv1[\"Byte Position\"]-=1\n",
      "C:\\Users\\accounttest\\AppData\\Local\\Temp\\ipykernel_34252\\913697355.py:10: SettingWithCopyWarning: \n",
      "A value is trying to be set on a copy of a slice from a DataFrame.\n",
      "Try using .loc[row_indexer,col_indexer] = value instead\n",
      "\n",
      "See the caveats in the documentation: https://pandas.pydata.org/pandas-docs/stable/user_guide/indexing.html#returning-a-view-versus-a-copy\n",
      "  layout_perv1[[\"Byte Position\", \"Unnamed: 6\"]] = layout_perv1[[\"Byte Position\", \"Unnamed: 6\"]].apply(pd.to_numeric, errors='coerce', axis=1)\n",
      "C:\\Users\\accounttest\\AppData\\Local\\Temp\\ipykernel_34252\\913697355.py:11: SettingWithCopyWarning: \n",
      "A value is trying to be set on a copy of a slice from a DataFrame.\n",
      "Try using .loc[row_indexer,col_indexer] = value instead\n",
      "\n",
      "See the caveats in the documentation: https://pandas.pydata.org/pandas-docs/stable/user_guide/indexing.html#returning-a-view-versus-a-copy\n",
      "  layout_perv1[\"Byte Position\"]-=1\n",
      "C:\\Users\\accounttest\\AppData\\Local\\Temp\\ipykernel_34252\\913697355.py:12: SettingWithCopyWarning: \n",
      "A value is trying to be set on a copy of a slice from a DataFrame.\n",
      "Try using .loc[row_indexer,col_indexer] = value instead\n",
      "\n",
      "See the caveats in the documentation: https://pandas.pydata.org/pandas-docs/stable/user_guide/indexing.html#returning-a-view-versus-a-copy\n",
      "  layout_perv1[\"Full Name\"] = layout_perv1[[\"Srl\", \"Full Name\"]].apply(lambda row: '_'.join(row.values.astype(str)), axis=1)\n",
      "C:\\Users\\accounttest\\AppData\\Local\\Temp\\ipykernel_34252\\913697355.py:15: SettingWithCopyWarning: \n",
      "A value is trying to be set on a copy of a slice from a DataFrame.\n",
      "Try using .loc[row_indexer,col_indexer] = value instead\n",
      "\n",
      "See the caveats in the documentation: https://pandas.pydata.org/pandas-docs/stable/user_guide/indexing.html#returning-a-view-versus-a-copy\n",
      "  layout_perrv[[\"Byte Position\", \"Unnamed: 6\"]] = layout_perrv[[\"Byte Position\", \"Unnamed: 6\"]].apply(pd.to_numeric, errors='coerce', axis=1)\n",
      "C:\\Users\\accounttest\\AppData\\Local\\Temp\\ipykernel_34252\\913697355.py:16: SettingWithCopyWarning: \n",
      "A value is trying to be set on a copy of a slice from a DataFrame.\n",
      "Try using .loc[row_indexer,col_indexer] = value instead\n",
      "\n",
      "See the caveats in the documentation: https://pandas.pydata.org/pandas-docs/stable/user_guide/indexing.html#returning-a-view-versus-a-copy\n",
      "  layout_perrv[\"Byte Position\"]-=1\n",
      "C:\\Users\\accounttest\\AppData\\Local\\Temp\\ipykernel_34252\\913697355.py:17: SettingWithCopyWarning: \n",
      "A value is trying to be set on a copy of a slice from a DataFrame.\n",
      "Try using .loc[row_indexer,col_indexer] = value instead\n",
      "\n",
      "See the caveats in the documentation: https://pandas.pydata.org/pandas-docs/stable/user_guide/indexing.html#returning-a-view-versus-a-copy\n",
      "  layout_perrv[\"Full Name\"] = layout_perrv[[\"Srl\", \"Full Name\"]].apply(lambda row: '_'.join(row.values.astype(str)), axis=1)\n"
     ]
    }
   ],
   "source": [
    "layout = pd.read_excel(root+ r\"\\PLFS_Data_19-20\\Data_LayoutPLFS.xlsx\", header=2)\n",
    "\n",
    "layout_hhv1 = layout[0:32]\n",
    "layout_hhv1[[\"Byte Position\", \"Unnamed: 6\"]] = layout_hhv1[[\"Byte Position\", \"Unnamed: 6\"]].apply(pd.to_numeric, errors='coerce', axis=1)\n",
    "layout_hhv1[\"Byte Position\"]-=1\n",
    "\n",
    "layout_hhrv = layout_hhv1\n",
    "\n",
    "layout_perv1 = layout[37:165]\n",
    "layout_perv1[[\"Byte Position\", \"Unnamed: 6\"]] = layout_perv1[[\"Byte Position\", \"Unnamed: 6\"]].apply(pd.to_numeric, errors='coerce', axis=1)\n",
    "layout_perv1[\"Byte Position\"]-=1\n",
    "layout_perv1[\"Full Name\"] = layout_perv1[[\"Srl\", \"Full Name\"]].apply(lambda row: '_'.join(row.values.astype(str)), axis=1)\n",
    "\n",
    "layout_perrv = layout[169:273]\n",
    "layout_perrv[[\"Byte Position\", \"Unnamed: 6\"]] = layout_perrv[[\"Byte Position\", \"Unnamed: 6\"]].apply(pd.to_numeric, errors='coerce', axis=1)\n",
    "layout_perrv[\"Byte Position\"]-=1\n",
    "layout_perrv[\"Full Name\"] = layout_perrv[[\"Srl\", \"Full Name\"]].apply(lambda row: '_'.join(row.values.astype(str)), axis=1)"
   ]
  },
  {
   "cell_type": "code",
   "execution_count": 43,
   "metadata": {},
   "outputs": [],
   "source": [
    "column_specs = list(zip(layout_hhv1[\"Byte Position\"], layout_hhv1[\"Unnamed: 6\"]))\n",
    "column_names = list(layout_hhv1[\"Full Name\"])\n",
    "df_hhv1 = pd.read_fwf(root+ r\"\\PLFS_Data_19-20\\HHV1.TXT\", header=None, colspecs=column_specs, names=column_names)\n",
    "df_hhv1.to_csv(root+ r\"\\PLFS_Data_19-20\\HHV1.csv\")"
   ]
  },
  {
   "cell_type": "code",
   "execution_count": 44,
   "metadata": {},
   "outputs": [],
   "source": [
    "column_specs = list(zip(layout_hhrv[\"Byte Position\"], layout_hhrv[\"Unnamed: 6\"]))\n",
    "column_names = list(layout_hhrv[\"Full Name\"])\n",
    "df_hhrv = pd.read_fwf(root+ r\"\\PLFS_Data_19-20\\HHRV.TXT\", header=None, colspecs=column_specs, names=column_names)\n",
    "df_hhrv.to_csv(root+ r\"\\PLFS_Data_19-20\\HHRV.csv\")"
   ]
  },
  {
   "cell_type": "code",
   "execution_count": 45,
   "metadata": {},
   "outputs": [],
   "source": [
    "column_specs = list(zip(layout_perv1[\"Byte Position\"], layout_perv1[\"Unnamed: 6\"]))\n",
    "column_names = list(layout_perv1[\"Full Name\"])\n",
    "df_perv1 = pd.read_fwf(root+ r\"\\PLFS_Data_19-20\\PERV1.TXT\", header=None, colspecs=column_specs, names=column_names)\n",
    "df_perv1.to_csv(root+ r\"\\PLFS_Data_19-20\\PERV1.csv\")"
   ]
  },
  {
   "cell_type": "code",
   "execution_count": 46,
   "metadata": {},
   "outputs": [],
   "source": [
    "column_specs = list(zip(layout_perrv[\"Byte Position\"], layout_perrv[\"Unnamed: 6\"]))\n",
    "column_names = list(layout_perrv[\"Full Name\"])\n",
    "df_perrv = pd.read_fwf(root+ r\"\\PLFS_Data_19-20\\PERRV.TXT\", header=None, colspecs=column_specs, names=column_names)\n",
    "df_perrv.to_csv(root+ r\"\\PLFS_Data_19-20\\PERRV.csv\")"
   ]
  },
  {
   "cell_type": "markdown",
   "metadata": {},
   "source": [
    "PLFS 2018-19"
   ]
  },
  {
   "cell_type": "code",
   "execution_count": 47,
   "metadata": {},
   "outputs": [
    {
     "name": "stderr",
     "output_type": "stream",
     "text": [
      "C:\\Users\\accounttest\\AppData\\Local\\Temp\\ipykernel_34252\\172360580.py:4: SettingWithCopyWarning: \n",
      "A value is trying to be set on a copy of a slice from a DataFrame.\n",
      "Try using .loc[row_indexer,col_indexer] = value instead\n",
      "\n",
      "See the caveats in the documentation: https://pandas.pydata.org/pandas-docs/stable/user_guide/indexing.html#returning-a-view-versus-a-copy\n",
      "  layout_hhv1[[\"Byte Position\", \"Unnamed: 6\"]] = layout_hhv1[[\"Byte Position\", \"Unnamed: 6\"]].apply(pd.to_numeric, errors='coerce', axis=1)\n",
      "C:\\Users\\accounttest\\AppData\\Local\\Temp\\ipykernel_34252\\172360580.py:5: SettingWithCopyWarning: \n",
      "A value is trying to be set on a copy of a slice from a DataFrame.\n",
      "Try using .loc[row_indexer,col_indexer] = value instead\n",
      "\n",
      "See the caveats in the documentation: https://pandas.pydata.org/pandas-docs/stable/user_guide/indexing.html#returning-a-view-versus-a-copy\n",
      "  layout_hhv1[\"Byte Position\"]-=1\n",
      "C:\\Users\\accounttest\\AppData\\Local\\Temp\\ipykernel_34252\\172360580.py:10: SettingWithCopyWarning: \n",
      "A value is trying to be set on a copy of a slice from a DataFrame.\n",
      "Try using .loc[row_indexer,col_indexer] = value instead\n",
      "\n",
      "See the caveats in the documentation: https://pandas.pydata.org/pandas-docs/stable/user_guide/indexing.html#returning-a-view-versus-a-copy\n",
      "  layout_perv1[[\"Byte Position\", \"Unnamed: 6\"]] = layout_perv1[[\"Byte Position\", \"Unnamed: 6\"]].apply(pd.to_numeric, errors='coerce', axis=1)\n",
      "C:\\Users\\accounttest\\AppData\\Local\\Temp\\ipykernel_34252\\172360580.py:11: SettingWithCopyWarning: \n",
      "A value is trying to be set on a copy of a slice from a DataFrame.\n",
      "Try using .loc[row_indexer,col_indexer] = value instead\n",
      "\n",
      "See the caveats in the documentation: https://pandas.pydata.org/pandas-docs/stable/user_guide/indexing.html#returning-a-view-versus-a-copy\n",
      "  layout_perv1[\"Byte Position\"]-=1\n",
      "C:\\Users\\accounttest\\AppData\\Local\\Temp\\ipykernel_34252\\172360580.py:12: SettingWithCopyWarning: \n",
      "A value is trying to be set on a copy of a slice from a DataFrame.\n",
      "Try using .loc[row_indexer,col_indexer] = value instead\n",
      "\n",
      "See the caveats in the documentation: https://pandas.pydata.org/pandas-docs/stable/user_guide/indexing.html#returning-a-view-versus-a-copy\n",
      "  layout_perv1[\"Full Name\"] = layout_perv1[[\"Srl\", \"Full Name\"]].apply(lambda row: '_'.join(row.values.astype(str)), axis=1)\n",
      "C:\\Users\\accounttest\\AppData\\Local\\Temp\\ipykernel_34252\\172360580.py:15: SettingWithCopyWarning: \n",
      "A value is trying to be set on a copy of a slice from a DataFrame.\n",
      "Try using .loc[row_indexer,col_indexer] = value instead\n",
      "\n",
      "See the caveats in the documentation: https://pandas.pydata.org/pandas-docs/stable/user_guide/indexing.html#returning-a-view-versus-a-copy\n",
      "  layout_perrv[[\"Byte Position\", \"Unnamed: 6\"]] = layout_perrv[[\"Byte Position\", \"Unnamed: 6\"]].apply(pd.to_numeric, errors='coerce', axis=1)\n",
      "C:\\Users\\accounttest\\AppData\\Local\\Temp\\ipykernel_34252\\172360580.py:16: SettingWithCopyWarning: \n",
      "A value is trying to be set on a copy of a slice from a DataFrame.\n",
      "Try using .loc[row_indexer,col_indexer] = value instead\n",
      "\n",
      "See the caveats in the documentation: https://pandas.pydata.org/pandas-docs/stable/user_guide/indexing.html#returning-a-view-versus-a-copy\n",
      "  layout_perrv[\"Byte Position\"]-=1\n",
      "C:\\Users\\accounttest\\AppData\\Local\\Temp\\ipykernel_34252\\172360580.py:17: SettingWithCopyWarning: \n",
      "A value is trying to be set on a copy of a slice from a DataFrame.\n",
      "Try using .loc[row_indexer,col_indexer] = value instead\n",
      "\n",
      "See the caveats in the documentation: https://pandas.pydata.org/pandas-docs/stable/user_guide/indexing.html#returning-a-view-versus-a-copy\n",
      "  layout_perrv[\"Full Name\"] = layout_perrv[[\"Srl\", \"Full Name\"]].apply(lambda row: '_'.join(row.values.astype(str)), axis=1)\n"
     ]
    }
   ],
   "source": [
    "layout = pd.read_excel(root+ r\"\\PLFS_Data_18-19\\Data_LayoutPLFS.xlsx\", header=2)\n",
    "\n",
    "layout_hhv1 = layout[0:32]\n",
    "layout_hhv1[[\"Byte Position\", \"Unnamed: 6\"]] = layout_hhv1[[\"Byte Position\", \"Unnamed: 6\"]].apply(pd.to_numeric, errors='coerce', axis=1)\n",
    "layout_hhv1[\"Byte Position\"]-=1\n",
    "\n",
    "layout_hhrv = layout_hhv1\n",
    "\n",
    "layout_perv1 = layout[37:165]\n",
    "layout_perv1[[\"Byte Position\", \"Unnamed: 6\"]] = layout_perv1[[\"Byte Position\", \"Unnamed: 6\"]].apply(pd.to_numeric, errors='coerce', axis=1)\n",
    "layout_perv1[\"Byte Position\"]-=1\n",
    "layout_perv1[\"Full Name\"] = layout_perv1[[\"Srl\", \"Full Name\"]].apply(lambda row: '_'.join(row.values.astype(str)), axis=1)\n",
    "\n",
    "layout_perrv = layout[169:273]\n",
    "layout_perrv[[\"Byte Position\", \"Unnamed: 6\"]] = layout_perrv[[\"Byte Position\", \"Unnamed: 6\"]].apply(pd.to_numeric, errors='coerce', axis=1)\n",
    "layout_perrv[\"Byte Position\"]-=1\n",
    "layout_perrv[\"Full Name\"] = layout_perrv[[\"Srl\", \"Full Name\"]].apply(lambda row: '_'.join(row.values.astype(str)), axis=1)"
   ]
  },
  {
   "cell_type": "code",
   "execution_count": 51,
   "metadata": {},
   "outputs": [],
   "source": [
    "column_specs = list(zip(layout_hhv1[\"Byte Position\"], layout_hhv1[\"Unnamed: 6\"]))\n",
    "column_names = list(layout_hhv1[\"Full Name\"])\n",
    "df_hhv1 = pd.read_fwf(root+ r\"\\PLFS_Data_18-19\\HHV1.TXT\", header=None, colspecs=column_specs, names=column_names)\n",
    "df_hhv1.to_csv(root+ r\"\\PLFS_Data_18-19\\HHV1.csv\")"
   ]
  },
  {
   "cell_type": "code",
   "execution_count": 52,
   "metadata": {},
   "outputs": [],
   "source": [
    "column_specs = list(zip(layout_hhrv[\"Byte Position\"], layout_hhrv[\"Unnamed: 6\"]))\n",
    "column_names = list(layout_hhrv[\"Full Name\"])\n",
    "df_hhrv = pd.read_fwf(root+ r\"\\PLFS_Data_18-19\\HHRV.TXT\", header=None, colspecs=column_specs, names=column_names)\n",
    "df_hhrv.to_csv(root+ r\"\\PLFS_Data_18-19\\HHRV.csv\")"
   ]
  },
  {
   "cell_type": "code",
   "execution_count": 53,
   "metadata": {},
   "outputs": [],
   "source": [
    "column_specs = list(zip(layout_perv1[\"Byte Position\"], layout_perv1[\"Unnamed: 6\"]))\n",
    "column_names = list(layout_perv1[\"Full Name\"])\n",
    "df_perv1 = pd.read_fwf(root+ r\"\\PLFS_Data_18-19\\PERV1.TXT\", header=None, colspecs=column_specs, names=column_names)\n",
    "df_perv1.to_csv(root+ r\"\\PLFS_Data_18-19\\PERV1.csv\")"
   ]
  },
  {
   "cell_type": "code",
   "execution_count": 54,
   "metadata": {},
   "outputs": [],
   "source": [
    "column_specs = list(zip(layout_perrv[\"Byte Position\"], layout_perrv[\"Unnamed: 6\"]))\n",
    "column_names = list(layout_perrv[\"Full Name\"])\n",
    "df_perrv = pd.read_fwf(root+ r\"\\PLFS_Data_18-19\\PERRV.TXT\", header=None, colspecs=column_specs, names=column_names)\n",
    "df_perrv.to_csv(root+ r\"\\PLFS_Data_18-19\\PERRV.csv\")"
   ]
  },
  {
   "cell_type": "markdown",
   "metadata": {},
   "source": [
    "PLFS 2017-18"
   ]
  },
  {
   "cell_type": "code",
   "execution_count": 55,
   "metadata": {},
   "outputs": [
    {
     "name": "stderr",
     "output_type": "stream",
     "text": [
      "C:\\Users\\accounttest\\AppData\\Local\\Temp\\ipykernel_34252\\2553118670.py:4: SettingWithCopyWarning: \n",
      "A value is trying to be set on a copy of a slice from a DataFrame.\n",
      "Try using .loc[row_indexer,col_indexer] = value instead\n",
      "\n",
      "See the caveats in the documentation: https://pandas.pydata.org/pandas-docs/stable/user_guide/indexing.html#returning-a-view-versus-a-copy\n",
      "  layout_hhv1[[\"Byte Position\", \"Unnamed: 6\"]] = layout_hhv1[[\"Byte Position\", \"Unnamed: 6\"]].apply(pd.to_numeric, errors='coerce', axis=1)\n",
      "C:\\Users\\accounttest\\AppData\\Local\\Temp\\ipykernel_34252\\2553118670.py:5: SettingWithCopyWarning: \n",
      "A value is trying to be set on a copy of a slice from a DataFrame.\n",
      "Try using .loc[row_indexer,col_indexer] = value instead\n",
      "\n",
      "See the caveats in the documentation: https://pandas.pydata.org/pandas-docs/stable/user_guide/indexing.html#returning-a-view-versus-a-copy\n",
      "  layout_hhv1[\"Byte Position\"]-=1\n",
      "C:\\Users\\accounttest\\AppData\\Local\\Temp\\ipykernel_34252\\2553118670.py:10: SettingWithCopyWarning: \n",
      "A value is trying to be set on a copy of a slice from a DataFrame.\n",
      "Try using .loc[row_indexer,col_indexer] = value instead\n",
      "\n",
      "See the caveats in the documentation: https://pandas.pydata.org/pandas-docs/stable/user_guide/indexing.html#returning-a-view-versus-a-copy\n",
      "  layout_perv1[[\"Byte Position\", \"Unnamed: 6\"]] = layout_perv1[[\"Byte Position\", \"Unnamed: 6\"]].apply(pd.to_numeric, errors='coerce', axis=1)\n",
      "C:\\Users\\accounttest\\AppData\\Local\\Temp\\ipykernel_34252\\2553118670.py:11: SettingWithCopyWarning: \n",
      "A value is trying to be set on a copy of a slice from a DataFrame.\n",
      "Try using .loc[row_indexer,col_indexer] = value instead\n",
      "\n",
      "See the caveats in the documentation: https://pandas.pydata.org/pandas-docs/stable/user_guide/indexing.html#returning-a-view-versus-a-copy\n",
      "  layout_perv1[\"Byte Position\"]-=1\n",
      "C:\\Users\\accounttest\\AppData\\Local\\Temp\\ipykernel_34252\\2553118670.py:12: SettingWithCopyWarning: \n",
      "A value is trying to be set on a copy of a slice from a DataFrame.\n",
      "Try using .loc[row_indexer,col_indexer] = value instead\n",
      "\n",
      "See the caveats in the documentation: https://pandas.pydata.org/pandas-docs/stable/user_guide/indexing.html#returning-a-view-versus-a-copy\n",
      "  layout_perv1[\"Full Name\"] = layout_perv1[[\"Srl\", \"Full Name\"]].apply(lambda row: '_'.join(row.values.astype(str)), axis=1)\n",
      "C:\\Users\\accounttest\\AppData\\Local\\Temp\\ipykernel_34252\\2553118670.py:15: SettingWithCopyWarning: \n",
      "A value is trying to be set on a copy of a slice from a DataFrame.\n",
      "Try using .loc[row_indexer,col_indexer] = value instead\n",
      "\n",
      "See the caveats in the documentation: https://pandas.pydata.org/pandas-docs/stable/user_guide/indexing.html#returning-a-view-versus-a-copy\n",
      "  layout_perrv[[\"Byte Position\", \"Unnamed: 6\"]] = layout_perrv[[\"Byte Position\", \"Unnamed: 6\"]].apply(pd.to_numeric, errors='coerce', axis=1)\n",
      "C:\\Users\\accounttest\\AppData\\Local\\Temp\\ipykernel_34252\\2553118670.py:16: SettingWithCopyWarning: \n",
      "A value is trying to be set on a copy of a slice from a DataFrame.\n",
      "Try using .loc[row_indexer,col_indexer] = value instead\n",
      "\n",
      "See the caveats in the documentation: https://pandas.pydata.org/pandas-docs/stable/user_guide/indexing.html#returning-a-view-versus-a-copy\n",
      "  layout_perrv[\"Byte Position\"]-=1\n",
      "C:\\Users\\accounttest\\AppData\\Local\\Temp\\ipykernel_34252\\2553118670.py:17: SettingWithCopyWarning: \n",
      "A value is trying to be set on a copy of a slice from a DataFrame.\n",
      "Try using .loc[row_indexer,col_indexer] = value instead\n",
      "\n",
      "See the caveats in the documentation: https://pandas.pydata.org/pandas-docs/stable/user_guide/indexing.html#returning-a-view-versus-a-copy\n",
      "  layout_perrv[\"Full Name\"] = layout_perrv[[\"Srl\", \"Full Name\"]].apply(lambda row: '_'.join(row.values.astype(str)), axis=1)\n"
     ]
    }
   ],
   "source": [
    "layout = pd.read_excel(root+ r\"\\PLFS_Data_17-18\\Data_LayoutPLFS.xlsx\", header=2)\n",
    "\n",
    "layout_hhv1 = layout[0:32]\n",
    "layout_hhv1[[\"Byte Position\", \"Unnamed: 6\"]] = layout_hhv1[[\"Byte Position\", \"Unnamed: 6\"]].apply(pd.to_numeric, errors='coerce', axis=1)\n",
    "layout_hhv1[\"Byte Position\"]-=1\n",
    "\n",
    "layout_hhrv = layout_hhv1\n",
    "\n",
    "layout_perv1 = layout[37:165]\n",
    "layout_perv1[[\"Byte Position\", \"Unnamed: 6\"]] = layout_perv1[[\"Byte Position\", \"Unnamed: 6\"]].apply(pd.to_numeric, errors='coerce', axis=1)\n",
    "layout_perv1[\"Byte Position\"]-=1\n",
    "layout_perv1[\"Full Name\"] = layout_perv1[[\"Srl\", \"Full Name\"]].apply(lambda row: '_'.join(row.values.astype(str)), axis=1)\n",
    "\n",
    "layout_perrv = layout[169:273]\n",
    "layout_perrv[[\"Byte Position\", \"Unnamed: 6\"]] = layout_perrv[[\"Byte Position\", \"Unnamed: 6\"]].apply(pd.to_numeric, errors='coerce', axis=1)\n",
    "layout_perrv[\"Byte Position\"]-=1\n",
    "layout_perrv[\"Full Name\"] = layout_perrv[[\"Srl\", \"Full Name\"]].apply(lambda row: '_'.join(row.values.astype(str)), axis=1)"
   ]
  },
  {
   "cell_type": "code",
   "execution_count": 60,
   "metadata": {},
   "outputs": [
    {
     "ename": "FileNotFoundError",
     "evalue": "[Errno 2] No such file or directory: 'F:\\\\00 microdata-gov-in\\\\PLFS\\\\PLFS_Data_17-18\\\\HHV1.TXT'",
     "output_type": "error",
     "traceback": [
      "\u001b[1;31m---------------------------------------------------------------------------\u001b[0m",
      "\u001b[1;31mFileNotFoundError\u001b[0m                         Traceback (most recent call last)",
      "\u001b[1;32mc:\\Users\\accounttest\\Documents\\GitHub\\PLFS\\setup.ipynb Cell 36\u001b[0m line \u001b[0;36m3\n\u001b[0;32m      <a href='vscode-notebook-cell:/c%3A/Users/accounttest/Documents/GitHub/PLFS/setup.ipynb#X60sZmlsZQ%3D%3D?line=0'>1</a>\u001b[0m column_specs \u001b[39m=\u001b[39m \u001b[39mlist\u001b[39m(\u001b[39mzip\u001b[39m(layout_hhv1[\u001b[39m\"\u001b[39m\u001b[39mByte Position\u001b[39m\u001b[39m\"\u001b[39m], layout_hhv1[\u001b[39m\"\u001b[39m\u001b[39mUnnamed: 6\u001b[39m\u001b[39m\"\u001b[39m]))\n\u001b[0;32m      <a href='vscode-notebook-cell:/c%3A/Users/accounttest/Documents/GitHub/PLFS/setup.ipynb#X60sZmlsZQ%3D%3D?line=1'>2</a>\u001b[0m column_names \u001b[39m=\u001b[39m \u001b[39mlist\u001b[39m(layout_hhv1[\u001b[39m\"\u001b[39m\u001b[39mFull Name\u001b[39m\u001b[39m\"\u001b[39m])\n\u001b[1;32m----> <a href='vscode-notebook-cell:/c%3A/Users/accounttest/Documents/GitHub/PLFS/setup.ipynb#X60sZmlsZQ%3D%3D?line=2'>3</a>\u001b[0m df_hhv1 \u001b[39m=\u001b[39m pd\u001b[39m.\u001b[39;49mread_fwf(root\u001b[39m+\u001b[39;49m \u001b[39mr\u001b[39;49m\u001b[39m\"\u001b[39;49m\u001b[39m\\\u001b[39;49m\u001b[39mPLFS_Data_17-18\u001b[39;49m\u001b[39m\\\u001b[39;49m\u001b[39mHHV1.TXT\u001b[39;49m\u001b[39m\"\u001b[39;49m, header\u001b[39m=\u001b[39;49m\u001b[39mNone\u001b[39;49;00m, colspecs\u001b[39m=\u001b[39;49mcolumn_specs, names\u001b[39m=\u001b[39;49mcolumn_names)\n\u001b[0;32m      <a href='vscode-notebook-cell:/c%3A/Users/accounttest/Documents/GitHub/PLFS/setup.ipynb#X60sZmlsZQ%3D%3D?line=3'>4</a>\u001b[0m df_hhv1\u001b[39m.\u001b[39mto_csv(root\u001b[39m+\u001b[39m \u001b[39mr\u001b[39m\u001b[39m\"\u001b[39m\u001b[39m\\\u001b[39m\u001b[39mPLFS_Data_17-18\u001b[39m\u001b[39m\\\u001b[39m\u001b[39mHHV1.csv\u001b[39m\u001b[39m\"\u001b[39m)\n",
      "File \u001b[1;32m~\\AppData\\Local\\Packages\\PythonSoftwareFoundation.Python.3.11_qbz5n2kfra8p0\\LocalCache\\local-packages\\Python311\\site-packages\\pandas\\io\\parsers\\readers.py:1393\u001b[0m, in \u001b[0;36mread_fwf\u001b[1;34m(filepath_or_buffer, colspecs, widths, infer_nrows, dtype_backend, **kwds)\u001b[0m\n\u001b[0;32m   1391\u001b[0m check_dtype_backend(dtype_backend)\n\u001b[0;32m   1392\u001b[0m kwds[\u001b[39m\"\u001b[39m\u001b[39mdtype_backend\u001b[39m\u001b[39m\"\u001b[39m] \u001b[39m=\u001b[39m dtype_backend\n\u001b[1;32m-> 1393\u001b[0m \u001b[39mreturn\u001b[39;00m _read(filepath_or_buffer, kwds)\n",
      "File \u001b[1;32m~\\AppData\\Local\\Packages\\PythonSoftwareFoundation.Python.3.11_qbz5n2kfra8p0\\LocalCache\\local-packages\\Python311\\site-packages\\pandas\\io\\parsers\\readers.py:611\u001b[0m, in \u001b[0;36m_read\u001b[1;34m(filepath_or_buffer, kwds)\u001b[0m\n\u001b[0;32m    608\u001b[0m _validate_names(kwds\u001b[39m.\u001b[39mget(\u001b[39m\"\u001b[39m\u001b[39mnames\u001b[39m\u001b[39m\"\u001b[39m, \u001b[39mNone\u001b[39;00m))\n\u001b[0;32m    610\u001b[0m \u001b[39m# Create the parser.\u001b[39;00m\n\u001b[1;32m--> 611\u001b[0m parser \u001b[39m=\u001b[39m TextFileReader(filepath_or_buffer, \u001b[39m*\u001b[39;49m\u001b[39m*\u001b[39;49mkwds)\n\u001b[0;32m    613\u001b[0m \u001b[39mif\u001b[39;00m chunksize \u001b[39mor\u001b[39;00m iterator:\n\u001b[0;32m    614\u001b[0m     \u001b[39mreturn\u001b[39;00m parser\n",
      "File \u001b[1;32m~\\AppData\\Local\\Packages\\PythonSoftwareFoundation.Python.3.11_qbz5n2kfra8p0\\LocalCache\\local-packages\\Python311\\site-packages\\pandas\\io\\parsers\\readers.py:1448\u001b[0m, in \u001b[0;36mTextFileReader.__init__\u001b[1;34m(self, f, engine, **kwds)\u001b[0m\n\u001b[0;32m   1445\u001b[0m     \u001b[39mself\u001b[39m\u001b[39m.\u001b[39moptions[\u001b[39m\"\u001b[39m\u001b[39mhas_index_names\u001b[39m\u001b[39m\"\u001b[39m] \u001b[39m=\u001b[39m kwds[\u001b[39m\"\u001b[39m\u001b[39mhas_index_names\u001b[39m\u001b[39m\"\u001b[39m]\n\u001b[0;32m   1447\u001b[0m \u001b[39mself\u001b[39m\u001b[39m.\u001b[39mhandles: IOHandles \u001b[39m|\u001b[39m \u001b[39mNone\u001b[39;00m \u001b[39m=\u001b[39m \u001b[39mNone\u001b[39;00m\n\u001b[1;32m-> 1448\u001b[0m \u001b[39mself\u001b[39m\u001b[39m.\u001b[39m_engine \u001b[39m=\u001b[39m \u001b[39mself\u001b[39;49m\u001b[39m.\u001b[39;49m_make_engine(f, \u001b[39mself\u001b[39;49m\u001b[39m.\u001b[39;49mengine)\n",
      "File \u001b[1;32m~\\AppData\\Local\\Packages\\PythonSoftwareFoundation.Python.3.11_qbz5n2kfra8p0\\LocalCache\\local-packages\\Python311\\site-packages\\pandas\\io\\parsers\\readers.py:1705\u001b[0m, in \u001b[0;36mTextFileReader._make_engine\u001b[1;34m(self, f, engine)\u001b[0m\n\u001b[0;32m   1703\u001b[0m     \u001b[39mif\u001b[39;00m \u001b[39m\"\u001b[39m\u001b[39mb\u001b[39m\u001b[39m\"\u001b[39m \u001b[39mnot\u001b[39;00m \u001b[39min\u001b[39;00m mode:\n\u001b[0;32m   1704\u001b[0m         mode \u001b[39m+\u001b[39m\u001b[39m=\u001b[39m \u001b[39m\"\u001b[39m\u001b[39mb\u001b[39m\u001b[39m\"\u001b[39m\n\u001b[1;32m-> 1705\u001b[0m \u001b[39mself\u001b[39m\u001b[39m.\u001b[39mhandles \u001b[39m=\u001b[39m get_handle(\n\u001b[0;32m   1706\u001b[0m     f,\n\u001b[0;32m   1707\u001b[0m     mode,\n\u001b[0;32m   1708\u001b[0m     encoding\u001b[39m=\u001b[39;49m\u001b[39mself\u001b[39;49m\u001b[39m.\u001b[39;49moptions\u001b[39m.\u001b[39;49mget(\u001b[39m\"\u001b[39;49m\u001b[39mencoding\u001b[39;49m\u001b[39m\"\u001b[39;49m, \u001b[39mNone\u001b[39;49;00m),\n\u001b[0;32m   1709\u001b[0m     compression\u001b[39m=\u001b[39;49m\u001b[39mself\u001b[39;49m\u001b[39m.\u001b[39;49moptions\u001b[39m.\u001b[39;49mget(\u001b[39m\"\u001b[39;49m\u001b[39mcompression\u001b[39;49m\u001b[39m\"\u001b[39;49m, \u001b[39mNone\u001b[39;49;00m),\n\u001b[0;32m   1710\u001b[0m     memory_map\u001b[39m=\u001b[39;49m\u001b[39mself\u001b[39;49m\u001b[39m.\u001b[39;49moptions\u001b[39m.\u001b[39;49mget(\u001b[39m\"\u001b[39;49m\u001b[39mmemory_map\u001b[39;49m\u001b[39m\"\u001b[39;49m, \u001b[39mFalse\u001b[39;49;00m),\n\u001b[0;32m   1711\u001b[0m     is_text\u001b[39m=\u001b[39;49mis_text,\n\u001b[0;32m   1712\u001b[0m     errors\u001b[39m=\u001b[39;49m\u001b[39mself\u001b[39;49m\u001b[39m.\u001b[39;49moptions\u001b[39m.\u001b[39;49mget(\u001b[39m\"\u001b[39;49m\u001b[39mencoding_errors\u001b[39;49m\u001b[39m\"\u001b[39;49m, \u001b[39m\"\u001b[39;49m\u001b[39mstrict\u001b[39;49m\u001b[39m\"\u001b[39;49m),\n\u001b[0;32m   1713\u001b[0m     storage_options\u001b[39m=\u001b[39;49m\u001b[39mself\u001b[39;49m\u001b[39m.\u001b[39;49moptions\u001b[39m.\u001b[39;49mget(\u001b[39m\"\u001b[39;49m\u001b[39mstorage_options\u001b[39;49m\u001b[39m\"\u001b[39;49m, \u001b[39mNone\u001b[39;49;00m),\n\u001b[0;32m   1714\u001b[0m )\n\u001b[0;32m   1715\u001b[0m \u001b[39massert\u001b[39;00m \u001b[39mself\u001b[39m\u001b[39m.\u001b[39mhandles \u001b[39mis\u001b[39;00m \u001b[39mnot\u001b[39;00m \u001b[39mNone\u001b[39;00m\n\u001b[0;32m   1716\u001b[0m f \u001b[39m=\u001b[39m \u001b[39mself\u001b[39m\u001b[39m.\u001b[39mhandles\u001b[39m.\u001b[39mhandle\n",
      "File \u001b[1;32m~\\AppData\\Local\\Packages\\PythonSoftwareFoundation.Python.3.11_qbz5n2kfra8p0\\LocalCache\\local-packages\\Python311\\site-packages\\pandas\\io\\common.py:863\u001b[0m, in \u001b[0;36mget_handle\u001b[1;34m(path_or_buf, mode, encoding, compression, memory_map, is_text, errors, storage_options)\u001b[0m\n\u001b[0;32m    858\u001b[0m \u001b[39melif\u001b[39;00m \u001b[39misinstance\u001b[39m(handle, \u001b[39mstr\u001b[39m):\n\u001b[0;32m    859\u001b[0m     \u001b[39m# Check whether the filename is to be opened in binary mode.\u001b[39;00m\n\u001b[0;32m    860\u001b[0m     \u001b[39m# Binary mode does not support 'encoding' and 'newline'.\u001b[39;00m\n\u001b[0;32m    861\u001b[0m     \u001b[39mif\u001b[39;00m ioargs\u001b[39m.\u001b[39mencoding \u001b[39mand\u001b[39;00m \u001b[39m\"\u001b[39m\u001b[39mb\u001b[39m\u001b[39m\"\u001b[39m \u001b[39mnot\u001b[39;00m \u001b[39min\u001b[39;00m ioargs\u001b[39m.\u001b[39mmode:\n\u001b[0;32m    862\u001b[0m         \u001b[39m# Encoding\u001b[39;00m\n\u001b[1;32m--> 863\u001b[0m         handle \u001b[39m=\u001b[39m \u001b[39mopen\u001b[39m(\n\u001b[0;32m    864\u001b[0m             handle,\n\u001b[0;32m    865\u001b[0m             ioargs\u001b[39m.\u001b[39mmode,\n\u001b[0;32m    866\u001b[0m             encoding\u001b[39m=\u001b[39mioargs\u001b[39m.\u001b[39mencoding,\n\u001b[0;32m    867\u001b[0m             errors\u001b[39m=\u001b[39merrors,\n\u001b[0;32m    868\u001b[0m             newline\u001b[39m=\u001b[39m\u001b[39m\"\u001b[39m\u001b[39m\"\u001b[39m,\n\u001b[0;32m    869\u001b[0m         )\n\u001b[0;32m    870\u001b[0m     \u001b[39melse\u001b[39;00m:\n\u001b[0;32m    871\u001b[0m         \u001b[39m# Binary mode\u001b[39;00m\n\u001b[0;32m    872\u001b[0m         handle \u001b[39m=\u001b[39m \u001b[39mopen\u001b[39m(handle, ioargs\u001b[39m.\u001b[39mmode)\n",
      "\u001b[1;31mFileNotFoundError\u001b[0m: [Errno 2] No such file or directory: 'F:\\\\00 microdata-gov-in\\\\PLFS\\\\PLFS_Data_17-18\\\\HHV1.TXT'"
     ]
    }
   ],
   "source": [
    "column_specs = list(zip(layout_hhv1[\"Byte Position\"], layout_hhv1[\"Unnamed: 6\"]))\n",
    "column_names = list(layout_hhv1[\"Full Name\"])\n",
    "df_hhv1 = pd.read_fwf(root+ r\"\\PLFS_Data_17-18\\FHH_FV.TXT\", header=None, colspecs=column_specs, names=column_names)\n",
    "df_hhv1.to_csv(root+ r\"\\PLFS_Data_17-18\\FHH_FV.csv\")"
   ]
  },
  {
   "cell_type": "code",
   "execution_count": null,
   "metadata": {},
   "outputs": [],
   "source": [
    "column_specs = list(zip(layout_hhrv[\"Byte Position\"], layout_hhrv[\"Unnamed: 6\"]))\n",
    "column_names = list(layout_hhrv[\"Full Name\"])\n",
    "df_hhrv = pd.read_fwf(root+ r\"\\PLFS_Data_17-18\\FHH_RV.TXT\", header=None, colspecs=column_specs, names=column_names)\n",
    "df_hhrv.to_csv(root+ r\"\\PLFS_Data_17-18\\FHH_RV.csv\")"
   ]
  },
  {
   "cell_type": "code",
   "execution_count": null,
   "metadata": {},
   "outputs": [],
   "source": [
    "column_specs = list(zip(layout_perv1[\"Byte Position\"], layout_perv1[\"Unnamed: 6\"]))\n",
    "column_names = list(layout_perv1[\"Full Name\"])\n",
    "df_perv1 = pd.read_fwf(root+ r\"\\PLFS_Data_17-18\\FPER_FV.TXT\", header=None, colspecs=column_specs, names=column_names)\n",
    "df_perv1.to_csv(root+ r\"\\PLFS_Data_17-18\\FPER_FV.csv\")"
   ]
  },
  {
   "cell_type": "code",
   "execution_count": null,
   "metadata": {},
   "outputs": [],
   "source": [
    "column_specs = list(zip(layout_perrv[\"Byte Position\"], layout_perrv[\"Unnamed: 6\"]))\n",
    "column_names = list(layout_perrv[\"Full Name\"])\n",
    "df_perrv = pd.read_fwf(root+ r\"\\PLFS_Data_17-18\\FPER_RV.TXT\", header=None, colspecs=column_specs, names=column_names)\n",
    "df_perrv.to_csv(root+ r\"\\PLFS_Data_17-18\\FPER_RV.csv\")"
   ]
  }
 ],
 "metadata": {
  "kernelspec": {
   "display_name": "Python 3",
   "language": "python",
   "name": "python3"
  },
  "language_info": {
   "codemirror_mode": {
    "name": "ipython",
    "version": 3
   },
   "file_extension": ".py",
   "mimetype": "text/x-python",
   "name": "python",
   "nbconvert_exporter": "python",
   "pygments_lexer": "ipython3",
   "version": "3.11.6"
  },
  "orig_nbformat": 4
 },
 "nbformat": 4,
 "nbformat_minor": 2
}
