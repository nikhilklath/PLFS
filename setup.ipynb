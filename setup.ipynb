{
 "cells": [
  {
   "cell_type": "markdown",
   "metadata": {},
   "source": [
    "Used advice from https://medium.com/@yadaviitb2018/working-with-periodic-labour-force-survey-plfs-data-in-python-79f8eba134ae"
   ]
  },
  {
   "cell_type": "code",
   "execution_count": 1,
   "metadata": {},
   "outputs": [],
   "source": [
    "import numpy as np\n",
    "import pandas as pd"
   ]
  },
  {
   "cell_type": "code",
   "execution_count": 20,
   "metadata": {},
   "outputs": [],
   "source": [
    "root = r\"F:\\00 microdata-gov-in\\PLFS\""
   ]
  },
  {
   "cell_type": "markdown",
   "metadata": {},
   "source": [
    "PLFS 2022-23"
   ]
  },
  {
   "cell_type": "code",
   "execution_count": 2,
   "metadata": {},
   "outputs": [
    {
     "name": "stderr",
     "output_type": "stream",
     "text": [
      "C:\\Users\\accounttest\\AppData\\Local\\Temp\\ipykernel_34252\\642644613.py:4: SettingWithCopyWarning: \n",
      "A value is trying to be set on a copy of a slice from a DataFrame.\n",
      "Try using .loc[row_indexer,col_indexer] = value instead\n",
      "\n",
      "See the caveats in the documentation: https://pandas.pydata.org/pandas-docs/stable/user_guide/indexing.html#returning-a-view-versus-a-copy\n",
      "  layout_hhv1[[\"Byte Position\", \"Unnamed: 6\"]] = layout_hhv1[[\"Byte Position\", \"Unnamed: 6\"]].apply(pd.to_numeric, errors='coerce', axis=1)\n",
      "C:\\Users\\accounttest\\AppData\\Local\\Temp\\ipykernel_34252\\642644613.py:5: SettingWithCopyWarning: \n",
      "A value is trying to be set on a copy of a slice from a DataFrame.\n",
      "Try using .loc[row_indexer,col_indexer] = value instead\n",
      "\n",
      "See the caveats in the documentation: https://pandas.pydata.org/pandas-docs/stable/user_guide/indexing.html#returning-a-view-versus-a-copy\n",
      "  layout_hhv1[\"Byte Position\"]-=1\n",
      "C:\\Users\\accounttest\\AppData\\Local\\Temp\\ipykernel_34252\\642644613.py:8: SettingWithCopyWarning: \n",
      "A value is trying to be set on a copy of a slice from a DataFrame.\n",
      "Try using .loc[row_indexer,col_indexer] = value instead\n",
      "\n",
      "See the caveats in the documentation: https://pandas.pydata.org/pandas-docs/stable/user_guide/indexing.html#returning-a-view-versus-a-copy\n",
      "  layout_hhrv[[\"Byte Position\", \"Unnamed: 6\"]] = layout_hhrv[[\"Byte Position\", \"Unnamed: 6\"]].apply(pd.to_numeric, errors='coerce', axis=1)\n",
      "C:\\Users\\accounttest\\AppData\\Local\\Temp\\ipykernel_34252\\642644613.py:9: SettingWithCopyWarning: \n",
      "A value is trying to be set on a copy of a slice from a DataFrame.\n",
      "Try using .loc[row_indexer,col_indexer] = value instead\n",
      "\n",
      "See the caveats in the documentation: https://pandas.pydata.org/pandas-docs/stable/user_guide/indexing.html#returning-a-view-versus-a-copy\n",
      "  layout_hhrv[\"Byte Position\"]-=1\n",
      "C:\\Users\\accounttest\\AppData\\Local\\Temp\\ipykernel_34252\\642644613.py:12: SettingWithCopyWarning: \n",
      "A value is trying to be set on a copy of a slice from a DataFrame.\n",
      "Try using .loc[row_indexer,col_indexer] = value instead\n",
      "\n",
      "See the caveats in the documentation: https://pandas.pydata.org/pandas-docs/stable/user_guide/indexing.html#returning-a-view-versus-a-copy\n",
      "  layout_perv1[[\"Byte Position\", \"Unnamed: 6\"]] = layout_perv1[[\"Byte Position\", \"Unnamed: 6\"]].apply(pd.to_numeric, errors='coerce', axis=1)\n",
      "C:\\Users\\accounttest\\AppData\\Local\\Temp\\ipykernel_34252\\642644613.py:13: SettingWithCopyWarning: \n",
      "A value is trying to be set on a copy of a slice from a DataFrame.\n",
      "Try using .loc[row_indexer,col_indexer] = value instead\n",
      "\n",
      "See the caveats in the documentation: https://pandas.pydata.org/pandas-docs/stable/user_guide/indexing.html#returning-a-view-versus-a-copy\n",
      "  layout_perv1[\"Byte Position\"]-=1\n",
      "C:\\Users\\accounttest\\AppData\\Local\\Temp\\ipykernel_34252\\642644613.py:14: SettingWithCopyWarning: \n",
      "A value is trying to be set on a copy of a slice from a DataFrame.\n",
      "Try using .loc[row_indexer,col_indexer] = value instead\n",
      "\n",
      "See the caveats in the documentation: https://pandas.pydata.org/pandas-docs/stable/user_guide/indexing.html#returning-a-view-versus-a-copy\n",
      "  layout_perv1[\"Full Name\"] = layout_perv1[[\"Srl\", \"Full Name\"]].apply(lambda row: '_'.join(row.values.astype(str)), axis=1)\n",
      "C:\\Users\\accounttest\\AppData\\Local\\Temp\\ipykernel_34252\\642644613.py:17: SettingWithCopyWarning: \n",
      "A value is trying to be set on a copy of a slice from a DataFrame.\n",
      "Try using .loc[row_indexer,col_indexer] = value instead\n",
      "\n",
      "See the caveats in the documentation: https://pandas.pydata.org/pandas-docs/stable/user_guide/indexing.html#returning-a-view-versus-a-copy\n",
      "  layout_perrv[[\"Byte Position\", \"Unnamed: 6\"]] = layout_perrv[[\"Byte Position\", \"Unnamed: 6\"]].apply(pd.to_numeric, errors='coerce', axis=1)\n",
      "C:\\Users\\accounttest\\AppData\\Local\\Temp\\ipykernel_34252\\642644613.py:18: SettingWithCopyWarning: \n",
      "A value is trying to be set on a copy of a slice from a DataFrame.\n",
      "Try using .loc[row_indexer,col_indexer] = value instead\n",
      "\n",
      "See the caveats in the documentation: https://pandas.pydata.org/pandas-docs/stable/user_guide/indexing.html#returning-a-view-versus-a-copy\n",
      "  layout_perrv[\"Byte Position\"]-=1\n",
      "C:\\Users\\accounttest\\AppData\\Local\\Temp\\ipykernel_34252\\642644613.py:19: SettingWithCopyWarning: \n",
      "A value is trying to be set on a copy of a slice from a DataFrame.\n",
      "Try using .loc[row_indexer,col_indexer] = value instead\n",
      "\n",
      "See the caveats in the documentation: https://pandas.pydata.org/pandas-docs/stable/user_guide/indexing.html#returning-a-view-versus-a-copy\n",
      "  layout_perrv[\"Full Name\"] = layout_perrv[[\"Srl\", \"Full Name\"]].apply(lambda row: '_'.join(row.values.astype(str)), axis=1)\n"
     ]
    }
   ],
   "source": [
    "layout = pd.read_excel(root+ r\"\\Data_LayoutPLFS_2022-23.xlsx\", header=2)\n",
    "\n",
    "layout_hhv1 = layout[0:37]\n",
    "layout_hhv1[[\"Byte Position\", \"Unnamed: 6\"]] = layout_hhv1[[\"Byte Position\", \"Unnamed: 6\"]].apply(pd.to_numeric, errors='coerce', axis=1)\n",
    "layout_hhv1[\"Byte Position\"]-=1\n",
    "\n",
    "layout_hhrv = layout[42:74]\n",
    "layout_hhrv[[\"Byte Position\", \"Unnamed: 6\"]] = layout_hhrv[[\"Byte Position\", \"Unnamed: 6\"]].apply(pd.to_numeric, errors='coerce', axis=1)\n",
    "layout_hhrv[\"Byte Position\"]-=1\n",
    "\n",
    "layout_perv1 = layout[79:218]\n",
    "layout_perv1[[\"Byte Position\", \"Unnamed: 6\"]] = layout_perv1[[\"Byte Position\", \"Unnamed: 6\"]].apply(pd.to_numeric, errors='coerce', axis=1)\n",
    "layout_perv1[\"Byte Position\"]-=1\n",
    "layout_perv1[\"Full Name\"] = layout_perv1[[\"Srl\", \"Full Name\"]].apply(lambda row: '_'.join(row.values.astype(str)), axis=1)\n",
    "\n",
    "layout_perrv = layout[223:338]\n",
    "layout_perrv[[\"Byte Position\", \"Unnamed: 6\"]] = layout_perrv[[\"Byte Position\", \"Unnamed: 6\"]].apply(pd.to_numeric, errors='coerce', axis=1)\n",
    "layout_perrv[\"Byte Position\"]-=1\n",
    "layout_perrv[\"Full Name\"] = layout_perrv[[\"Srl\", \"Full Name\"]].apply(lambda row: '_'.join(row.values.astype(str)), axis=1)"
   ]
  },
  {
   "cell_type": "code",
   "execution_count": 3,
   "metadata": {},
   "outputs": [],
   "source": [
    "column_specs = list(zip(layout_hhv1[\"Byte Position\"], layout_hhv1[\"Unnamed: 6\"]))\n",
    "column_names = list(layout_hhv1[\"Full Name\"])\n",
    "df_hhv1 = pd.read_fwf(root+ r\"\\PLFS_Data_22-23\\HHV1.TXT\", header=None, colspecs=column_specs, names=column_names)\n",
    "df_hhv1.to_csv(root+ r\"\\PLFS_Data_22-23\\HHV1.csv\")"
   ]
  },
  {
   "cell_type": "code",
   "execution_count": 4,
   "metadata": {},
   "outputs": [],
   "source": [
    "column_specs = list(zip(layout_hhrv[\"Byte Position\"], layout_hhrv[\"Unnamed: 6\"]))\n",
    "column_names = list(layout_hhrv[\"Full Name\"])\n",
    "df_hhrv = pd.read_fwf(root+ r\"\\PLFS_Data_22-23\\HHRV.TXT\", header=None, colspecs=column_specs, names=column_names)\n",
    "df_hhrv.to_csv(root+ r\"\\PLFS_Data_22-23\\HHRV.csv\")"
   ]
  },
  {
   "cell_type": "code",
   "execution_count": 5,
   "metadata": {},
   "outputs": [],
   "source": [
    "column_specs = list(zip(layout_perv1[\"Byte Position\"], layout_perv1[\"Unnamed: 6\"]))\n",
    "column_names = list(layout_perv1[\"Full Name\"])\n",
    "df_perv1 = pd.read_fwf(root+ r\"\\PLFS_Data_22-23\\PERV1.TXT\", header=None, colspecs=column_specs, names=column_names)\n",
    "df_perv1.to_csv(root+ r\"\\PLFS_Data_22-23\\PERV1.csv\")"
   ]
  },
  {
   "cell_type": "code",
   "execution_count": 6,
   "metadata": {},
   "outputs": [],
   "source": [
    "column_specs = list(zip(layout_perrv[\"Byte Position\"], layout_perrv[\"Unnamed: 6\"]))\n",
    "column_names = list(layout_perrv[\"Full Name\"])\n",
    "df_perrv = pd.read_fwf(root+ r\"\\PLFS_Data_22-23\\PERRV.TXT\", header=None, colspecs=column_specs, names=column_names)\n",
    "df_perrv.to_csv(root+ r\"\\PLFS_Data_22-23\\PERRV.csv\")"
   ]
  },
  {
   "cell_type": "markdown",
   "metadata": {},
   "source": [
    "PLFS 2021-22"
   ]
  },
  {
   "cell_type": "code",
   "execution_count": 11,
   "metadata": {},
   "outputs": [
    {
     "name": "stderr",
     "output_type": "stream",
     "text": [
      "C:\\Users\\accounttest\\AppData\\Local\\Temp\\ipykernel_34252\\3213809888.py:4: SettingWithCopyWarning: \n",
      "A value is trying to be set on a copy of a slice from a DataFrame.\n",
      "Try using .loc[row_indexer,col_indexer] = value instead\n",
      "\n",
      "See the caveats in the documentation: https://pandas.pydata.org/pandas-docs/stable/user_guide/indexing.html#returning-a-view-versus-a-copy\n",
      "  layout_hhv1[[\"Byte Position\", \"Unnamed: 6\"]] = layout_hhv1[[\"Byte Position\", \"Unnamed: 6\"]].apply(pd.to_numeric, errors='coerce', axis=1)\n",
      "C:\\Users\\accounttest\\AppData\\Local\\Temp\\ipykernel_34252\\3213809888.py:5: SettingWithCopyWarning: \n",
      "A value is trying to be set on a copy of a slice from a DataFrame.\n",
      "Try using .loc[row_indexer,col_indexer] = value instead\n",
      "\n",
      "See the caveats in the documentation: https://pandas.pydata.org/pandas-docs/stable/user_guide/indexing.html#returning-a-view-versus-a-copy\n",
      "  layout_hhv1[\"Byte Position\"]-=1\n",
      "C:\\Users\\accounttest\\AppData\\Local\\Temp\\ipykernel_34252\\3213809888.py:8: SettingWithCopyWarning: \n",
      "A value is trying to be set on a copy of a slice from a DataFrame.\n",
      "Try using .loc[row_indexer,col_indexer] = value instead\n",
      "\n",
      "See the caveats in the documentation: https://pandas.pydata.org/pandas-docs/stable/user_guide/indexing.html#returning-a-view-versus-a-copy\n",
      "  layout_hhrv[[\"Byte Position\", \"Unnamed: 6\"]] = layout_hhrv[[\"Byte Position\", \"Unnamed: 6\"]].apply(pd.to_numeric, errors='coerce', axis=1)\n",
      "C:\\Users\\accounttest\\AppData\\Local\\Temp\\ipykernel_34252\\3213809888.py:9: SettingWithCopyWarning: \n",
      "A value is trying to be set on a copy of a slice from a DataFrame.\n",
      "Try using .loc[row_indexer,col_indexer] = value instead\n",
      "\n",
      "See the caveats in the documentation: https://pandas.pydata.org/pandas-docs/stable/user_guide/indexing.html#returning-a-view-versus-a-copy\n",
      "  layout_hhrv[\"Byte Position\"]-=1\n",
      "C:\\Users\\accounttest\\AppData\\Local\\Temp\\ipykernel_34252\\3213809888.py:12: SettingWithCopyWarning: \n",
      "A value is trying to be set on a copy of a slice from a DataFrame.\n",
      "Try using .loc[row_indexer,col_indexer] = value instead\n",
      "\n",
      "See the caveats in the documentation: https://pandas.pydata.org/pandas-docs/stable/user_guide/indexing.html#returning-a-view-versus-a-copy\n",
      "  layout_perv1[[\"Byte Position\", \"Unnamed: 6\"]] = layout_perv1[[\"Byte Position\", \"Unnamed: 6\"]].apply(pd.to_numeric, errors='coerce', axis=1)\n",
      "C:\\Users\\accounttest\\AppData\\Local\\Temp\\ipykernel_34252\\3213809888.py:13: SettingWithCopyWarning: \n",
      "A value is trying to be set on a copy of a slice from a DataFrame.\n",
      "Try using .loc[row_indexer,col_indexer] = value instead\n",
      "\n",
      "See the caveats in the documentation: https://pandas.pydata.org/pandas-docs/stable/user_guide/indexing.html#returning-a-view-versus-a-copy\n",
      "  layout_perv1[\"Byte Position\"]-=1\n",
      "C:\\Users\\accounttest\\AppData\\Local\\Temp\\ipykernel_34252\\3213809888.py:14: SettingWithCopyWarning: \n",
      "A value is trying to be set on a copy of a slice from a DataFrame.\n",
      "Try using .loc[row_indexer,col_indexer] = value instead\n",
      "\n",
      "See the caveats in the documentation: https://pandas.pydata.org/pandas-docs/stable/user_guide/indexing.html#returning-a-view-versus-a-copy\n",
      "  layout_perv1[\"Full Name\"] = layout_perv1[[\"Srl\", \"Full Name\"]].apply(lambda row: '_'.join(row.values.astype(str)), axis=1)\n",
      "C:\\Users\\accounttest\\AppData\\Local\\Temp\\ipykernel_34252\\3213809888.py:17: SettingWithCopyWarning: \n",
      "A value is trying to be set on a copy of a slice from a DataFrame.\n",
      "Try using .loc[row_indexer,col_indexer] = value instead\n",
      "\n",
      "See the caveats in the documentation: https://pandas.pydata.org/pandas-docs/stable/user_guide/indexing.html#returning-a-view-versus-a-copy\n",
      "  layout_perrv[[\"Byte Position\", \"Unnamed: 6\"]] = layout_perrv[[\"Byte Position\", \"Unnamed: 6\"]].apply(pd.to_numeric, errors='coerce', axis=1)\n",
      "C:\\Users\\accounttest\\AppData\\Local\\Temp\\ipykernel_34252\\3213809888.py:18: SettingWithCopyWarning: \n",
      "A value is trying to be set on a copy of a slice from a DataFrame.\n",
      "Try using .loc[row_indexer,col_indexer] = value instead\n",
      "\n",
      "See the caveats in the documentation: https://pandas.pydata.org/pandas-docs/stable/user_guide/indexing.html#returning-a-view-versus-a-copy\n",
      "  layout_perrv[\"Byte Position\"]-=1\n",
      "C:\\Users\\accounttest\\AppData\\Local\\Temp\\ipykernel_34252\\3213809888.py:19: SettingWithCopyWarning: \n",
      "A value is trying to be set on a copy of a slice from a DataFrame.\n",
      "Try using .loc[row_indexer,col_indexer] = value instead\n",
      "\n",
      "See the caveats in the documentation: https://pandas.pydata.org/pandas-docs/stable/user_guide/indexing.html#returning-a-view-versus-a-copy\n",
      "  layout_perrv[\"Full Name\"] = layout_perrv[[\"Srl\", \"Full Name\"]].apply(lambda row: '_'.join(row.values.astype(str)), axis=1)\n"
     ]
    }
   ],
   "source": [
    "layout = pd.read_excel(root+ r\"\\PLFS_Data_21-22\\4Data_LayoutPLFS_2021-22.xlsx\", header=2)\n",
    "\n",
    "layout_hhv1 = layout[0:37]\n",
    "layout_hhv1[[\"Byte Position\", \"Unnamed: 6\"]] = layout_hhv1[[\"Byte Position\", \"Unnamed: 6\"]].apply(pd.to_numeric, errors='coerce', axis=1)\n",
    "layout_hhv1[\"Byte Position\"]-=1\n",
    "\n",
    "layout_hhrv = layout[42:74]\n",
    "layout_hhrv[[\"Byte Position\", \"Unnamed: 6\"]] = layout_hhrv[[\"Byte Position\", \"Unnamed: 6\"]].apply(pd.to_numeric, errors='coerce', axis=1)\n",
    "layout_hhrv[\"Byte Position\"]-=1\n",
    "\n",
    "layout_perv1 = layout[79:222]\n",
    "layout_perv1[[\"Byte Position\", \"Unnamed: 6\"]] = layout_perv1[[\"Byte Position\", \"Unnamed: 6\"]].apply(pd.to_numeric, errors='coerce', axis=1)\n",
    "layout_perv1[\"Byte Position\"]-=1\n",
    "layout_perv1[\"Full Name\"] = layout_perv1[[\"Srl\", \"Full Name\"]].apply(lambda row: '_'.join(row.values.astype(str)), axis=1)\n",
    "\n",
    "layout_perrv = layout[227:342]\n",
    "layout_perrv[[\"Byte Position\", \"Unnamed: 6\"]] = layout_perrv[[\"Byte Position\", \"Unnamed: 6\"]].apply(pd.to_numeric, errors='coerce', axis=1)\n",
    "layout_perrv[\"Byte Position\"]-=1\n",
    "layout_perrv[\"Full Name\"] = layout_perrv[[\"Srl\", \"Full Name\"]].apply(lambda row: '_'.join(row.values.astype(str)), axis=1)"
   ]
  },
  {
   "cell_type": "code",
   "execution_count": 14,
   "metadata": {},
   "outputs": [],
   "source": [
    "column_specs = list(zip(layout_hhv1[\"Byte Position\"], layout_hhv1[\"Unnamed: 6\"]))\n",
    "column_names = list(layout_hhv1[\"Full Name\"])\n",
    "df_hhv1 = pd.read_fwf(root+ r\"\\PLFS_Data_21-22\\HHV1.TXT\", header=None, colspecs=column_specs, names=column_names)\n",
    "df_hhv1.to_csv(root+ r\"\\PLFS_Data_21-22\\HHV1.csv\")"
   ]
  },
  {
   "cell_type": "code",
   "execution_count": 15,
   "metadata": {},
   "outputs": [],
   "source": [
    "column_specs = list(zip(layout_hhrv[\"Byte Position\"], layout_hhrv[\"Unnamed: 6\"]))\n",
    "column_names = list(layout_hhrv[\"Full Name\"])\n",
    "df_hhrv = pd.read_fwf(root+ r\"\\PLFS_Data_21-22\\HHRV.TXT\", header=None, colspecs=column_specs, names=column_names)\n",
    "df_hhrv.to_csv(root+ r\"\\PLFS_Data_21-22\\HHRV.csv\")"
   ]
  },
  {
   "cell_type": "code",
   "execution_count": 16,
   "metadata": {},
   "outputs": [],
   "source": [
    "column_specs = list(zip(layout_perv1[\"Byte Position\"], layout_perv1[\"Unnamed: 6\"]))\n",
    "column_names = list(layout_perv1[\"Full Name\"])\n",
    "df_perv1 = pd.read_fwf(root+ r\"\\PLFS_Data_21-22\\PERV1.TXT\", header=None, colspecs=column_specs, names=column_names)\n",
    "df_perv1.to_csv(root+ r\"\\PLFS_Data_21-22\\PERV1.csv\")"
   ]
  },
  {
   "cell_type": "code",
   "execution_count": 17,
   "metadata": {},
   "outputs": [],
   "source": [
    "column_specs = list(zip(layout_perrv[\"Byte Position\"], layout_perrv[\"Unnamed: 6\"]))\n",
    "column_names = list(layout_perrv[\"Full Name\"])\n",
    "df_perrv = pd.read_fwf(root+ r\"\\PLFS_Data_21-22\\PERRV.TXT\", header=None, colspecs=column_specs, names=column_names)\n",
    "df_perrv.to_csv(root+ r\"\\PLFS_Data_21-22\\PERRV.csv\")"
   ]
  },
  {
   "cell_type": "markdown",
   "metadata": {},
   "source": [
    "PLFS 2020-21"
   ]
  },
  {
   "cell_type": "code",
   "execution_count": 25,
   "metadata": {},
   "outputs": [
    {
     "name": "stderr",
     "output_type": "stream",
     "text": [
      "C:\\Users\\accounttest\\AppData\\Local\\Temp\\ipykernel_34252\\3373329853.py:4: SettingWithCopyWarning: \n",
      "A value is trying to be set on a copy of a slice from a DataFrame.\n",
      "Try using .loc[row_indexer,col_indexer] = value instead\n",
      "\n",
      "See the caveats in the documentation: https://pandas.pydata.org/pandas-docs/stable/user_guide/indexing.html#returning-a-view-versus-a-copy\n",
      "  layout_hhv1[[\"Byte Position\", \"Unnamed: 6\"]] = layout_hhv1[[\"Byte Position\", \"Unnamed: 6\"]].apply(pd.to_numeric, errors='coerce', axis=1)\n",
      "C:\\Users\\accounttest\\AppData\\Local\\Temp\\ipykernel_34252\\3373329853.py:5: SettingWithCopyWarning: \n",
      "A value is trying to be set on a copy of a slice from a DataFrame.\n",
      "Try using .loc[row_indexer,col_indexer] = value instead\n",
      "\n",
      "See the caveats in the documentation: https://pandas.pydata.org/pandas-docs/stable/user_guide/indexing.html#returning-a-view-versus-a-copy\n",
      "  layout_hhv1[\"Byte Position\"]-=1\n",
      "C:\\Users\\accounttest\\AppData\\Local\\Temp\\ipykernel_34252\\3373329853.py:8: SettingWithCopyWarning: \n",
      "A value is trying to be set on a copy of a slice from a DataFrame.\n",
      "Try using .loc[row_indexer,col_indexer] = value instead\n",
      "\n",
      "See the caveats in the documentation: https://pandas.pydata.org/pandas-docs/stable/user_guide/indexing.html#returning-a-view-versus-a-copy\n",
      "  layout_hhrv[[\"Byte Position\", \"Unnamed: 6\"]] = layout_hhrv[[\"Byte Position\", \"Unnamed: 6\"]].apply(pd.to_numeric, errors='coerce', axis=1)\n",
      "C:\\Users\\accounttest\\AppData\\Local\\Temp\\ipykernel_34252\\3373329853.py:9: SettingWithCopyWarning: \n",
      "A value is trying to be set on a copy of a slice from a DataFrame.\n",
      "Try using .loc[row_indexer,col_indexer] = value instead\n",
      "\n",
      "See the caveats in the documentation: https://pandas.pydata.org/pandas-docs/stable/user_guide/indexing.html#returning-a-view-versus-a-copy\n",
      "  layout_hhrv[\"Byte Position\"]-=1\n",
      "C:\\Users\\accounttest\\AppData\\Local\\Temp\\ipykernel_34252\\3373329853.py:12: SettingWithCopyWarning: \n",
      "A value is trying to be set on a copy of a slice from a DataFrame.\n",
      "Try using .loc[row_indexer,col_indexer] = value instead\n",
      "\n",
      "See the caveats in the documentation: https://pandas.pydata.org/pandas-docs/stable/user_guide/indexing.html#returning-a-view-versus-a-copy\n",
      "  layout_perv1[[\"Byte Position\", \"Unnamed: 6\"]] = layout_perv1[[\"Byte Position\", \"Unnamed: 6\"]].apply(pd.to_numeric, errors='coerce', axis=1)\n",
      "C:\\Users\\accounttest\\AppData\\Local\\Temp\\ipykernel_34252\\3373329853.py:13: SettingWithCopyWarning: \n",
      "A value is trying to be set on a copy of a slice from a DataFrame.\n",
      "Try using .loc[row_indexer,col_indexer] = value instead\n",
      "\n",
      "See the caveats in the documentation: https://pandas.pydata.org/pandas-docs/stable/user_guide/indexing.html#returning-a-view-versus-a-copy\n",
      "  layout_perv1[\"Byte Position\"]-=1\n",
      "C:\\Users\\accounttest\\AppData\\Local\\Temp\\ipykernel_34252\\3373329853.py:14: SettingWithCopyWarning: \n",
      "A value is trying to be set on a copy of a slice from a DataFrame.\n",
      "Try using .loc[row_indexer,col_indexer] = value instead\n",
      "\n",
      "See the caveats in the documentation: https://pandas.pydata.org/pandas-docs/stable/user_guide/indexing.html#returning-a-view-versus-a-copy\n",
      "  layout_perv1[\"Full Name\"] = layout_perv1[[\"Srl\", \"Full Name\"]].apply(lambda row: '_'.join(row.values.astype(str)), axis=1)\n",
      "C:\\Users\\accounttest\\AppData\\Local\\Temp\\ipykernel_34252\\3373329853.py:17: SettingWithCopyWarning: \n",
      "A value is trying to be set on a copy of a slice from a DataFrame.\n",
      "Try using .loc[row_indexer,col_indexer] = value instead\n",
      "\n",
      "See the caveats in the documentation: https://pandas.pydata.org/pandas-docs/stable/user_guide/indexing.html#returning-a-view-versus-a-copy\n",
      "  layout_perrv[[\"Byte Position\", \"Unnamed: 6\"]] = layout_perrv[[\"Byte Position\", \"Unnamed: 6\"]].apply(pd.to_numeric, errors='coerce', axis=1)\n",
      "C:\\Users\\accounttest\\AppData\\Local\\Temp\\ipykernel_34252\\3373329853.py:18: SettingWithCopyWarning: \n",
      "A value is trying to be set on a copy of a slice from a DataFrame.\n",
      "Try using .loc[row_indexer,col_indexer] = value instead\n",
      "\n",
      "See the caveats in the documentation: https://pandas.pydata.org/pandas-docs/stable/user_guide/indexing.html#returning-a-view-versus-a-copy\n",
      "  layout_perrv[\"Byte Position\"]-=1\n",
      "C:\\Users\\accounttest\\AppData\\Local\\Temp\\ipykernel_34252\\3373329853.py:19: SettingWithCopyWarning: \n",
      "A value is trying to be set on a copy of a slice from a DataFrame.\n",
      "Try using .loc[row_indexer,col_indexer] = value instead\n",
      "\n",
      "See the caveats in the documentation: https://pandas.pydata.org/pandas-docs/stable/user_guide/indexing.html#returning-a-view-versus-a-copy\n",
      "  layout_perrv[\"Full Name\"] = layout_perrv[[\"Srl\", \"Full Name\"]].apply(lambda row: '_'.join(row.values.astype(str)), axis=1)\n"
     ]
    }
   ],
   "source": [
    "layout = pd.read_excel(root+ r\"\\PLFS_Data_20-21\\Data_LayoutPLFS_2020-21.xlsx\", header=2)\n",
    "\n",
    "layout_hhv1 = layout[0:37]\n",
    "layout_hhv1[[\"Byte Position\", \"Unnamed: 6\"]] = layout_hhv1[[\"Byte Position\", \"Unnamed: 6\"]].apply(pd.to_numeric, errors='coerce', axis=1)\n",
    "layout_hhv1[\"Byte Position\"]-=1\n",
    "\n",
    "layout_hhrv = layout[42:74]\n",
    "layout_hhrv[[\"Byte Position\", \"Unnamed: 6\"]] = layout_hhrv[[\"Byte Position\", \"Unnamed: 6\"]].apply(pd.to_numeric, errors='coerce', axis=1)\n",
    "layout_hhrv[\"Byte Position\"]-=1\n",
    "\n",
    "layout_perv1 = layout[79:238]\n",
    "layout_perv1[[\"Byte Position\", \"Unnamed: 6\"]] = layout_perv1[[\"Byte Position\", \"Unnamed: 6\"]].apply(pd.to_numeric, errors='coerce', axis=1)\n",
    "layout_perv1[\"Byte Position\"]-=1\n",
    "layout_perv1[\"Full Name\"] = layout_perv1[[\"Srl\", \"Full Name\"]].apply(lambda row: '_'.join(row.values.astype(str)), axis=1)\n",
    "\n",
    "layout_perrv = layout[243:358]\n",
    "layout_perrv[[\"Byte Position\", \"Unnamed: 6\"]] = layout_perrv[[\"Byte Position\", \"Unnamed: 6\"]].apply(pd.to_numeric, errors='coerce', axis=1)\n",
    "layout_perrv[\"Byte Position\"]-=1\n",
    "layout_perrv[\"Full Name\"] = layout_perrv[[\"Srl\", \"Full Name\"]].apply(lambda row: '_'.join(row.values.astype(str)), axis=1)"
   ]
  },
  {
   "cell_type": "code",
   "execution_count": 28,
   "metadata": {},
   "outputs": [],
   "source": [
    "column_specs = list(zip(layout_hhv1[\"Byte Position\"], layout_hhv1[\"Unnamed: 6\"]))\n",
    "column_names = list(layout_hhv1[\"Full Name\"])\n",
    "df_hhv1 = pd.read_fwf(root+ r\"\\PLFS_Data_20-21\\HHV1.TXT\", header=None, colspecs=column_specs, names=column_names)\n",
    "df_hhv1.to_csv(root+ r\"\\PLFS_Data_20-21\\HHV1.csv\")"
   ]
  },
  {
   "cell_type": "code",
   "execution_count": 29,
   "metadata": {},
   "outputs": [],
   "source": [
    "column_specs = list(zip(layout_hhrv[\"Byte Position\"], layout_hhrv[\"Unnamed: 6\"]))\n",
    "column_names = list(layout_hhrv[\"Full Name\"])\n",
    "df_hhrv = pd.read_fwf(root+ r\"\\PLFS_Data_20-21\\HHRV.TXT\", header=None, colspecs=column_specs, names=column_names)\n",
    "df_hhrv.to_csv(root+ r\"\\PLFS_Data_20-21\\HHRV.csv\")"
   ]
  },
  {
   "cell_type": "code",
   "execution_count": 30,
   "metadata": {},
   "outputs": [],
   "source": [
    "column_specs = list(zip(layout_perv1[\"Byte Position\"], layout_perv1[\"Unnamed: 6\"]))\n",
    "column_names = list(layout_perv1[\"Full Name\"])\n",
    "df_perv1 = pd.read_fwf(root+ r\"\\PLFS_Data_20-21\\PERV1.TXT\", header=None, colspecs=column_specs, names=column_names)\n",
    "df_perv1.to_csv(root+ r\"\\PLFS_Data_20-21\\PERV1.csv\")"
   ]
  },
  {
   "cell_type": "code",
   "execution_count": 31,
   "metadata": {},
   "outputs": [],
   "source": [
    "column_specs = list(zip(layout_perrv[\"Byte Position\"], layout_perrv[\"Unnamed: 6\"]))\n",
    "column_names = list(layout_perrv[\"Full Name\"])\n",
    "df_perrv = pd.read_fwf(root+ r\"\\PLFS_Data_20-21\\PERRV.TXT\", header=None, colspecs=column_specs, names=column_names)\n",
    "df_perrv.to_csv(root+ r\"\\PLFS_Data_20-21\\PERRV.csv\")"
   ]
  },
  {
   "cell_type": "markdown",
   "metadata": {},
   "source": [
    "PLFS 2019-20"
   ]
  },
  {
   "cell_type": "code",
   "execution_count": 41,
   "metadata": {},
   "outputs": [
    {
     "name": "stderr",
     "output_type": "stream",
     "text": [
      "C:\\Users\\accounttest\\AppData\\Local\\Temp\\ipykernel_34252\\913697355.py:4: SettingWithCopyWarning: \n",
      "A value is trying to be set on a copy of a slice from a DataFrame.\n",
      "Try using .loc[row_indexer,col_indexer] = value instead\n",
      "\n",
      "See the caveats in the documentation: https://pandas.pydata.org/pandas-docs/stable/user_guide/indexing.html#returning-a-view-versus-a-copy\n",
      "  layout_hhv1[[\"Byte Position\", \"Unnamed: 6\"]] = layout_hhv1[[\"Byte Position\", \"Unnamed: 6\"]].apply(pd.to_numeric, errors='coerce', axis=1)\n",
      "C:\\Users\\accounttest\\AppData\\Local\\Temp\\ipykernel_34252\\913697355.py:5: SettingWithCopyWarning: \n",
      "A value is trying to be set on a copy of a slice from a DataFrame.\n",
      "Try using .loc[row_indexer,col_indexer] = value instead\n",
      "\n",
      "See the caveats in the documentation: https://pandas.pydata.org/pandas-docs/stable/user_guide/indexing.html#returning-a-view-versus-a-copy\n",
      "  layout_hhv1[\"Byte Position\"]-=1\n",
      "C:\\Users\\accounttest\\AppData\\Local\\Temp\\ipykernel_34252\\913697355.py:10: SettingWithCopyWarning: \n",
      "A value is trying to be set on a copy of a slice from a DataFrame.\n",
      "Try using .loc[row_indexer,col_indexer] = value instead\n",
      "\n",
      "See the caveats in the documentation: https://pandas.pydata.org/pandas-docs/stable/user_guide/indexing.html#returning-a-view-versus-a-copy\n",
      "  layout_perv1[[\"Byte Position\", \"Unnamed: 6\"]] = layout_perv1[[\"Byte Position\", \"Unnamed: 6\"]].apply(pd.to_numeric, errors='coerce', axis=1)\n",
      "C:\\Users\\accounttest\\AppData\\Local\\Temp\\ipykernel_34252\\913697355.py:11: SettingWithCopyWarning: \n",
      "A value is trying to be set on a copy of a slice from a DataFrame.\n",
      "Try using .loc[row_indexer,col_indexer] = value instead\n",
      "\n",
      "See the caveats in the documentation: https://pandas.pydata.org/pandas-docs/stable/user_guide/indexing.html#returning-a-view-versus-a-copy\n",
      "  layout_perv1[\"Byte Position\"]-=1\n",
      "C:\\Users\\accounttest\\AppData\\Local\\Temp\\ipykernel_34252\\913697355.py:12: SettingWithCopyWarning: \n",
      "A value is trying to be set on a copy of a slice from a DataFrame.\n",
      "Try using .loc[row_indexer,col_indexer] = value instead\n",
      "\n",
      "See the caveats in the documentation: https://pandas.pydata.org/pandas-docs/stable/user_guide/indexing.html#returning-a-view-versus-a-copy\n",
      "  layout_perv1[\"Full Name\"] = layout_perv1[[\"Srl\", \"Full Name\"]].apply(lambda row: '_'.join(row.values.astype(str)), axis=1)\n",
      "C:\\Users\\accounttest\\AppData\\Local\\Temp\\ipykernel_34252\\913697355.py:15: SettingWithCopyWarning: \n",
      "A value is trying to be set on a copy of a slice from a DataFrame.\n",
      "Try using .loc[row_indexer,col_indexer] = value instead\n",
      "\n",
      "See the caveats in the documentation: https://pandas.pydata.org/pandas-docs/stable/user_guide/indexing.html#returning-a-view-versus-a-copy\n",
      "  layout_perrv[[\"Byte Position\", \"Unnamed: 6\"]] = layout_perrv[[\"Byte Position\", \"Unnamed: 6\"]].apply(pd.to_numeric, errors='coerce', axis=1)\n",
      "C:\\Users\\accounttest\\AppData\\Local\\Temp\\ipykernel_34252\\913697355.py:16: SettingWithCopyWarning: \n",
      "A value is trying to be set on a copy of a slice from a DataFrame.\n",
      "Try using .loc[row_indexer,col_indexer] = value instead\n",
      "\n",
      "See the caveats in the documentation: https://pandas.pydata.org/pandas-docs/stable/user_guide/indexing.html#returning-a-view-versus-a-copy\n",
      "  layout_perrv[\"Byte Position\"]-=1\n",
      "C:\\Users\\accounttest\\AppData\\Local\\Temp\\ipykernel_34252\\913697355.py:17: SettingWithCopyWarning: \n",
      "A value is trying to be set on a copy of a slice from a DataFrame.\n",
      "Try using .loc[row_indexer,col_indexer] = value instead\n",
      "\n",
      "See the caveats in the documentation: https://pandas.pydata.org/pandas-docs/stable/user_guide/indexing.html#returning-a-view-versus-a-copy\n",
      "  layout_perrv[\"Full Name\"] = layout_perrv[[\"Srl\", \"Full Name\"]].apply(lambda row: '_'.join(row.values.astype(str)), axis=1)\n"
     ]
    }
   ],
   "source": [
    "layout = pd.read_excel(root+ r\"\\PLFS_Data_19-20\\Data_LayoutPLFS.xlsx\", header=2)\n",
    "\n",
    "layout_hhv1 = layout[0:32]\n",
    "layout_hhv1[[\"Byte Position\", \"Unnamed: 6\"]] = layout_hhv1[[\"Byte Position\", \"Unnamed: 6\"]].apply(pd.to_numeric, errors='coerce', axis=1)\n",
    "layout_hhv1[\"Byte Position\"]-=1\n",
    "\n",
    "layout_hhrv = layout_hhv1\n",
    "\n",
    "layout_perv1 = layout[37:165]\n",
    "layout_perv1[[\"Byte Position\", \"Unnamed: 6\"]] = layout_perv1[[\"Byte Position\", \"Unnamed: 6\"]].apply(pd.to_numeric, errors='coerce', axis=1)\n",
    "layout_perv1[\"Byte Position\"]-=1\n",
    "layout_perv1[\"Full Name\"] = layout_perv1[[\"Srl\", \"Full Name\"]].apply(lambda row: '_'.join(row.values.astype(str)), axis=1)\n",
    "\n",
    "layout_perrv = layout[169:273]\n",
    "layout_perrv[[\"Byte Position\", \"Unnamed: 6\"]] = layout_perrv[[\"Byte Position\", \"Unnamed: 6\"]].apply(pd.to_numeric, errors='coerce', axis=1)\n",
    "layout_perrv[\"Byte Position\"]-=1\n",
    "layout_perrv[\"Full Name\"] = layout_perrv[[\"Srl\", \"Full Name\"]].apply(lambda row: '_'.join(row.values.astype(str)), axis=1)"
   ]
  },
  {
   "cell_type": "code",
   "execution_count": 43,
   "metadata": {},
   "outputs": [],
   "source": [
    "column_specs = list(zip(layout_hhv1[\"Byte Position\"], layout_hhv1[\"Unnamed: 6\"]))\n",
    "column_names = list(layout_hhv1[\"Full Name\"])\n",
    "df_hhv1 = pd.read_fwf(root+ r\"\\PLFS_Data_19-20\\HHV1.TXT\", header=None, colspecs=column_specs, names=column_names)\n",
    "df_hhv1.to_csv(root+ r\"\\PLFS_Data_19-20\\HHV1.csv\")"
   ]
  },
  {
   "cell_type": "code",
   "execution_count": 44,
   "metadata": {},
   "outputs": [],
   "source": [
    "column_specs = list(zip(layout_hhrv[\"Byte Position\"], layout_hhrv[\"Unnamed: 6\"]))\n",
    "column_names = list(layout_hhrv[\"Full Name\"])\n",
    "df_hhrv = pd.read_fwf(root+ r\"\\PLFS_Data_19-20\\HHRV.TXT\", header=None, colspecs=column_specs, names=column_names)\n",
    "df_hhrv.to_csv(root+ r\"\\PLFS_Data_19-20\\HHRV.csv\")"
   ]
  },
  {
   "cell_type": "code",
   "execution_count": 45,
   "metadata": {},
   "outputs": [],
   "source": [
    "column_specs = list(zip(layout_perv1[\"Byte Position\"], layout_perv1[\"Unnamed: 6\"]))\n",
    "column_names = list(layout_perv1[\"Full Name\"])\n",
    "df_perv1 = pd.read_fwf(root+ r\"\\PLFS_Data_19-20\\PERV1.TXT\", header=None, colspecs=column_specs, names=column_names)\n",
    "df_perv1.to_csv(root+ r\"\\PLFS_Data_19-20\\PERV1.csv\")"
   ]
  },
  {
   "cell_type": "code",
   "execution_count": 46,
   "metadata": {},
   "outputs": [],
   "source": [
    "column_specs = list(zip(layout_perrv[\"Byte Position\"], layout_perrv[\"Unnamed: 6\"]))\n",
    "column_names = list(layout_perrv[\"Full Name\"])\n",
    "df_perrv = pd.read_fwf(root+ r\"\\PLFS_Data_19-20\\PERRV.TXT\", header=None, colspecs=column_specs, names=column_names)\n",
    "df_perrv.to_csv(root+ r\"\\PLFS_Data_19-20\\PERRV.csv\")"
   ]
  },
  {
   "cell_type": "markdown",
   "metadata": {},
   "source": [
    "PLFS 2018-19"
   ]
  },
  {
   "cell_type": "code",
   "execution_count": 47,
   "metadata": {},
   "outputs": [
    {
     "name": "stderr",
     "output_type": "stream",
     "text": [
      "C:\\Users\\accounttest\\AppData\\Local\\Temp\\ipykernel_34252\\172360580.py:4: SettingWithCopyWarning: \n",
      "A value is trying to be set on a copy of a slice from a DataFrame.\n",
      "Try using .loc[row_indexer,col_indexer] = value instead\n",
      "\n",
      "See the caveats in the documentation: https://pandas.pydata.org/pandas-docs/stable/user_guide/indexing.html#returning-a-view-versus-a-copy\n",
      "  layout_hhv1[[\"Byte Position\", \"Unnamed: 6\"]] = layout_hhv1[[\"Byte Position\", \"Unnamed: 6\"]].apply(pd.to_numeric, errors='coerce', axis=1)\n",
      "C:\\Users\\accounttest\\AppData\\Local\\Temp\\ipykernel_34252\\172360580.py:5: SettingWithCopyWarning: \n",
      "A value is trying to be set on a copy of a slice from a DataFrame.\n",
      "Try using .loc[row_indexer,col_indexer] = value instead\n",
      "\n",
      "See the caveats in the documentation: https://pandas.pydata.org/pandas-docs/stable/user_guide/indexing.html#returning-a-view-versus-a-copy\n",
      "  layout_hhv1[\"Byte Position\"]-=1\n",
      "C:\\Users\\accounttest\\AppData\\Local\\Temp\\ipykernel_34252\\172360580.py:10: SettingWithCopyWarning: \n",
      "A value is trying to be set on a copy of a slice from a DataFrame.\n",
      "Try using .loc[row_indexer,col_indexer] = value instead\n",
      "\n",
      "See the caveats in the documentation: https://pandas.pydata.org/pandas-docs/stable/user_guide/indexing.html#returning-a-view-versus-a-copy\n",
      "  layout_perv1[[\"Byte Position\", \"Unnamed: 6\"]] = layout_perv1[[\"Byte Position\", \"Unnamed: 6\"]].apply(pd.to_numeric, errors='coerce', axis=1)\n",
      "C:\\Users\\accounttest\\AppData\\Local\\Temp\\ipykernel_34252\\172360580.py:11: SettingWithCopyWarning: \n",
      "A value is trying to be set on a copy of a slice from a DataFrame.\n",
      "Try using .loc[row_indexer,col_indexer] = value instead\n",
      "\n",
      "See the caveats in the documentation: https://pandas.pydata.org/pandas-docs/stable/user_guide/indexing.html#returning-a-view-versus-a-copy\n",
      "  layout_perv1[\"Byte Position\"]-=1\n",
      "C:\\Users\\accounttest\\AppData\\Local\\Temp\\ipykernel_34252\\172360580.py:12: SettingWithCopyWarning: \n",
      "A value is trying to be set on a copy of a slice from a DataFrame.\n",
      "Try using .loc[row_indexer,col_indexer] = value instead\n",
      "\n",
      "See the caveats in the documentation: https://pandas.pydata.org/pandas-docs/stable/user_guide/indexing.html#returning-a-view-versus-a-copy\n",
      "  layout_perv1[\"Full Name\"] = layout_perv1[[\"Srl\", \"Full Name\"]].apply(lambda row: '_'.join(row.values.astype(str)), axis=1)\n",
      "C:\\Users\\accounttest\\AppData\\Local\\Temp\\ipykernel_34252\\172360580.py:15: SettingWithCopyWarning: \n",
      "A value is trying to be set on a copy of a slice from a DataFrame.\n",
      "Try using .loc[row_indexer,col_indexer] = value instead\n",
      "\n",
      "See the caveats in the documentation: https://pandas.pydata.org/pandas-docs/stable/user_guide/indexing.html#returning-a-view-versus-a-copy\n",
      "  layout_perrv[[\"Byte Position\", \"Unnamed: 6\"]] = layout_perrv[[\"Byte Position\", \"Unnamed: 6\"]].apply(pd.to_numeric, errors='coerce', axis=1)\n",
      "C:\\Users\\accounttest\\AppData\\Local\\Temp\\ipykernel_34252\\172360580.py:16: SettingWithCopyWarning: \n",
      "A value is trying to be set on a copy of a slice from a DataFrame.\n",
      "Try using .loc[row_indexer,col_indexer] = value instead\n",
      "\n",
      "See the caveats in the documentation: https://pandas.pydata.org/pandas-docs/stable/user_guide/indexing.html#returning-a-view-versus-a-copy\n",
      "  layout_perrv[\"Byte Position\"]-=1\n",
      "C:\\Users\\accounttest\\AppData\\Local\\Temp\\ipykernel_34252\\172360580.py:17: SettingWithCopyWarning: \n",
      "A value is trying to be set on a copy of a slice from a DataFrame.\n",
      "Try using .loc[row_indexer,col_indexer] = value instead\n",
      "\n",
      "See the caveats in the documentation: https://pandas.pydata.org/pandas-docs/stable/user_guide/indexing.html#returning-a-view-versus-a-copy\n",
      "  layout_perrv[\"Full Name\"] = layout_perrv[[\"Srl\", \"Full Name\"]].apply(lambda row: '_'.join(row.values.astype(str)), axis=1)\n"
     ]
    }
   ],
   "source": [
    "layout = pd.read_excel(root+ r\"\\PLFS_Data_18-19\\Data_LayoutPLFS.xlsx\", header=2)\n",
    "\n",
    "layout_hhv1 = layout[0:32]\n",
    "layout_hhv1[[\"Byte Position\", \"Unnamed: 6\"]] = layout_hhv1[[\"Byte Position\", \"Unnamed: 6\"]].apply(pd.to_numeric, errors='coerce', axis=1)\n",
    "layout_hhv1[\"Byte Position\"]-=1\n",
    "\n",
    "layout_hhrv = layout_hhv1\n",
    "\n",
    "layout_perv1 = layout[37:165]\n",
    "layout_perv1[[\"Byte Position\", \"Unnamed: 6\"]] = layout_perv1[[\"Byte Position\", \"Unnamed: 6\"]].apply(pd.to_numeric, errors='coerce', axis=1)\n",
    "layout_perv1[\"Byte Position\"]-=1\n",
    "layout_perv1[\"Full Name\"] = layout_perv1[[\"Srl\", \"Full Name\"]].apply(lambda row: '_'.join(row.values.astype(str)), axis=1)\n",
    "\n",
    "layout_perrv = layout[169:273]\n",
    "layout_perrv[[\"Byte Position\", \"Unnamed: 6\"]] = layout_perrv[[\"Byte Position\", \"Unnamed: 6\"]].apply(pd.to_numeric, errors='coerce', axis=1)\n",
    "layout_perrv[\"Byte Position\"]-=1\n",
    "layout_perrv[\"Full Name\"] = layout_perrv[[\"Srl\", \"Full Name\"]].apply(lambda row: '_'.join(row.values.astype(str)), axis=1)"
   ]
  },
  {
   "cell_type": "code",
   "execution_count": 51,
   "metadata": {},
   "outputs": [],
   "source": [
    "column_specs = list(zip(layout_hhv1[\"Byte Position\"], layout_hhv1[\"Unnamed: 6\"]))\n",
    "column_names = list(layout_hhv1[\"Full Name\"])\n",
    "df_hhv1 = pd.read_fwf(root+ r\"\\PLFS_Data_18-19\\HHV1.TXT\", header=None, colspecs=column_specs, names=column_names)\n",
    "df_hhv1.to_csv(root+ r\"\\PLFS_Data_18-19\\HHV1.csv\")"
   ]
  },
  {
   "cell_type": "code",
   "execution_count": 52,
   "metadata": {},
   "outputs": [],
   "source": [
    "column_specs = list(zip(layout_hhrv[\"Byte Position\"], layout_hhrv[\"Unnamed: 6\"]))\n",
    "column_names = list(layout_hhrv[\"Full Name\"])\n",
    "df_hhrv = pd.read_fwf(root+ r\"\\PLFS_Data_18-19\\HHRV.TXT\", header=None, colspecs=column_specs, names=column_names)\n",
    "df_hhrv.to_csv(root+ r\"\\PLFS_Data_18-19\\HHRV.csv\")"
   ]
  },
  {
   "cell_type": "code",
   "execution_count": 53,
   "metadata": {},
   "outputs": [],
   "source": [
    "column_specs = list(zip(layout_perv1[\"Byte Position\"], layout_perv1[\"Unnamed: 6\"]))\n",
    "column_names = list(layout_perv1[\"Full Name\"])\n",
    "df_perv1 = pd.read_fwf(root+ r\"\\PLFS_Data_18-19\\PERV1.TXT\", header=None, colspecs=column_specs, names=column_names)\n",
    "df_perv1.to_csv(root+ r\"\\PLFS_Data_18-19\\PERV1.csv\")"
   ]
  },
  {
   "cell_type": "code",
   "execution_count": 54,
   "metadata": {},
   "outputs": [],
   "source": [
    "column_specs = list(zip(layout_perrv[\"Byte Position\"], layout_perrv[\"Unnamed: 6\"]))\n",
    "column_names = list(layout_perrv[\"Full Name\"])\n",
    "df_perrv = pd.read_fwf(root+ r\"\\PLFS_Data_18-19\\PERRV.TXT\", header=None, colspecs=column_specs, names=column_names)\n",
    "df_perrv.to_csv(root+ r\"\\PLFS_Data_18-19\\PERRV.csv\")"
   ]
  },
  {
   "cell_type": "markdown",
   "metadata": {},
   "source": [
    "PLFS 2017-18"
   ]
  },
  {
   "cell_type": "code",
   "execution_count": 55,
   "metadata": {},
   "outputs": [
    {
     "name": "stderr",
     "output_type": "stream",
     "text": [
      "C:\\Users\\accounttest\\AppData\\Local\\Temp\\ipykernel_34252\\2553118670.py:4: SettingWithCopyWarning: \n",
      "A value is trying to be set on a copy of a slice from a DataFrame.\n",
      "Try using .loc[row_indexer,col_indexer] = value instead\n",
      "\n",
      "See the caveats in the documentation: https://pandas.pydata.org/pandas-docs/stable/user_guide/indexing.html#returning-a-view-versus-a-copy\n",
      "  layout_hhv1[[\"Byte Position\", \"Unnamed: 6\"]] = layout_hhv1[[\"Byte Position\", \"Unnamed: 6\"]].apply(pd.to_numeric, errors='coerce', axis=1)\n",
      "C:\\Users\\accounttest\\AppData\\Local\\Temp\\ipykernel_34252\\2553118670.py:5: SettingWithCopyWarning: \n",
      "A value is trying to be set on a copy of a slice from a DataFrame.\n",
      "Try using .loc[row_indexer,col_indexer] = value instead\n",
      "\n",
      "See the caveats in the documentation: https://pandas.pydata.org/pandas-docs/stable/user_guide/indexing.html#returning-a-view-versus-a-copy\n",
      "  layout_hhv1[\"Byte Position\"]-=1\n",
      "C:\\Users\\accounttest\\AppData\\Local\\Temp\\ipykernel_34252\\2553118670.py:10: SettingWithCopyWarning: \n",
      "A value is trying to be set on a copy of a slice from a DataFrame.\n",
      "Try using .loc[row_indexer,col_indexer] = value instead\n",
      "\n",
      "See the caveats in the documentation: https://pandas.pydata.org/pandas-docs/stable/user_guide/indexing.html#returning-a-view-versus-a-copy\n",
      "  layout_perv1[[\"Byte Position\", \"Unnamed: 6\"]] = layout_perv1[[\"Byte Position\", \"Unnamed: 6\"]].apply(pd.to_numeric, errors='coerce', axis=1)\n",
      "C:\\Users\\accounttest\\AppData\\Local\\Temp\\ipykernel_34252\\2553118670.py:11: SettingWithCopyWarning: \n",
      "A value is trying to be set on a copy of a slice from a DataFrame.\n",
      "Try using .loc[row_indexer,col_indexer] = value instead\n",
      "\n",
      "See the caveats in the documentation: https://pandas.pydata.org/pandas-docs/stable/user_guide/indexing.html#returning-a-view-versus-a-copy\n",
      "  layout_perv1[\"Byte Position\"]-=1\n",
      "C:\\Users\\accounttest\\AppData\\Local\\Temp\\ipykernel_34252\\2553118670.py:12: SettingWithCopyWarning: \n",
      "A value is trying to be set on a copy of a slice from a DataFrame.\n",
      "Try using .loc[row_indexer,col_indexer] = value instead\n",
      "\n",
      "See the caveats in the documentation: https://pandas.pydata.org/pandas-docs/stable/user_guide/indexing.html#returning-a-view-versus-a-copy\n",
      "  layout_perv1[\"Full Name\"] = layout_perv1[[\"Srl\", \"Full Name\"]].apply(lambda row: '_'.join(row.values.astype(str)), axis=1)\n",
      "C:\\Users\\accounttest\\AppData\\Local\\Temp\\ipykernel_34252\\2553118670.py:15: SettingWithCopyWarning: \n",
      "A value is trying to be set on a copy of a slice from a DataFrame.\n",
      "Try using .loc[row_indexer,col_indexer] = value instead\n",
      "\n",
      "See the caveats in the documentation: https://pandas.pydata.org/pandas-docs/stable/user_guide/indexing.html#returning-a-view-versus-a-copy\n",
      "  layout_perrv[[\"Byte Position\", \"Unnamed: 6\"]] = layout_perrv[[\"Byte Position\", \"Unnamed: 6\"]].apply(pd.to_numeric, errors='coerce', axis=1)\n",
      "C:\\Users\\accounttest\\AppData\\Local\\Temp\\ipykernel_34252\\2553118670.py:16: SettingWithCopyWarning: \n",
      "A value is trying to be set on a copy of a slice from a DataFrame.\n",
      "Try using .loc[row_indexer,col_indexer] = value instead\n",
      "\n",
      "See the caveats in the documentation: https://pandas.pydata.org/pandas-docs/stable/user_guide/indexing.html#returning-a-view-versus-a-copy\n",
      "  layout_perrv[\"Byte Position\"]-=1\n",
      "C:\\Users\\accounttest\\AppData\\Local\\Temp\\ipykernel_34252\\2553118670.py:17: SettingWithCopyWarning: \n",
      "A value is trying to be set on a copy of a slice from a DataFrame.\n",
      "Try using .loc[row_indexer,col_indexer] = value instead\n",
      "\n",
      "See the caveats in the documentation: https://pandas.pydata.org/pandas-docs/stable/user_guide/indexing.html#returning-a-view-versus-a-copy\n",
      "  layout_perrv[\"Full Name\"] = layout_perrv[[\"Srl\", \"Full Name\"]].apply(lambda row: '_'.join(row.values.astype(str)), axis=1)\n"
     ]
    }
   ],
   "source": [
    "layout = pd.read_excel(root+ r\"\\PLFS_Data_17-18\\Data_LayoutPLFS.xlsx\", header=2)\n",
    "\n",
    "layout_hhv1 = layout[0:32]\n",
    "layout_hhv1[[\"Byte Position\", \"Unnamed: 6\"]] = layout_hhv1[[\"Byte Position\", \"Unnamed: 6\"]].apply(pd.to_numeric, errors='coerce', axis=1)\n",
    "layout_hhv1[\"Byte Position\"]-=1\n",
    "\n",
    "layout_hhrv = layout_hhv1\n",
    "\n",
    "layout_perv1 = layout[37:165]\n",
    "layout_perv1[[\"Byte Position\", \"Unnamed: 6\"]] = layout_perv1[[\"Byte Position\", \"Unnamed: 6\"]].apply(pd.to_numeric, errors='coerce', axis=1)\n",
    "layout_perv1[\"Byte Position\"]-=1\n",
    "layout_perv1[\"Full Name\"] = layout_perv1[[\"Srl\", \"Full Name\"]].apply(lambda row: '_'.join(row.values.astype(str)), axis=1)\n",
    "\n",
    "layout_perrv = layout[169:273]\n",
    "layout_perrv[[\"Byte Position\", \"Unnamed: 6\"]] = layout_perrv[[\"Byte Position\", \"Unnamed: 6\"]].apply(pd.to_numeric, errors='coerce', axis=1)\n",
    "layout_perrv[\"Byte Position\"]-=1\n",
    "layout_perrv[\"Full Name\"] = layout_perrv[[\"Srl\", \"Full Name\"]].apply(lambda row: '_'.join(row.values.astype(str)), axis=1)"
   ]
  },
  {
   "cell_type": "code",
   "execution_count": 61,
   "metadata": {},
   "outputs": [],
   "source": [
    "column_specs = list(zip(layout_hhv1[\"Byte Position\"], layout_hhv1[\"Unnamed: 6\"]))\n",
    "column_names = list(layout_hhv1[\"Full Name\"])\n",
    "df_hhv1 = pd.read_fwf(root+ r\"\\PLFS_Data_17-18\\FHH_FV.TXT\", header=None, colspecs=column_specs, names=column_names)\n",
    "df_hhv1.to_csv(root+ r\"\\PLFS_Data_17-18\\FHH_FV.csv\")"
   ]
  },
  {
   "cell_type": "code",
   "execution_count": 62,
   "metadata": {},
   "outputs": [],
   "source": [
    "column_specs = list(zip(layout_hhrv[\"Byte Position\"], layout_hhrv[\"Unnamed: 6\"]))\n",
    "column_names = list(layout_hhrv[\"Full Name\"])\n",
    "df_hhrv = pd.read_fwf(root+ r\"\\PLFS_Data_17-18\\FHH_RV.TXT\", header=None, colspecs=column_specs, names=column_names)\n",
    "df_hhrv.to_csv(root+ r\"\\PLFS_Data_17-18\\FHH_RV.csv\")"
   ]
  },
  {
   "cell_type": "code",
   "execution_count": 63,
   "metadata": {},
   "outputs": [],
   "source": [
    "column_specs = list(zip(layout_perv1[\"Byte Position\"], layout_perv1[\"Unnamed: 6\"]))\n",
    "column_names = list(layout_perv1[\"Full Name\"])\n",
    "df_perv1 = pd.read_fwf(root+ r\"\\PLFS_Data_17-18\\FPER_FV.TXT\", header=None, colspecs=column_specs, names=column_names)\n",
    "df_perv1.to_csv(root+ r\"\\PLFS_Data_17-18\\FPER_FV.csv\")"
   ]
  },
  {
   "cell_type": "code",
   "execution_count": 64,
   "metadata": {},
   "outputs": [],
   "source": [
    "column_specs = list(zip(layout_perrv[\"Byte Position\"], layout_perrv[\"Unnamed: 6\"]))\n",
    "column_names = list(layout_perrv[\"Full Name\"])\n",
    "df_perrv = pd.read_fwf(root+ r\"\\PLFS_Data_17-18\\FPER_RV.TXT\", header=None, colspecs=column_specs, names=column_names)\n",
    "df_perrv.to_csv(root+ r\"\\PLFS_Data_17-18\\FPER_RV.csv\")"
   ]
  }
 ],
 "metadata": {
  "kernelspec": {
   "display_name": "Python 3",
   "language": "python",
   "name": "python3"
  },
  "language_info": {
   "codemirror_mode": {
    "name": "ipython",
    "version": 3
   },
   "file_extension": ".py",
   "mimetype": "text/x-python",
   "name": "python",
   "nbconvert_exporter": "python",
   "pygments_lexer": "ipython3",
   "version": "3.11.6"
  },
  "orig_nbformat": 4
 },
 "nbformat": 4,
 "nbformat_minor": 2
}
